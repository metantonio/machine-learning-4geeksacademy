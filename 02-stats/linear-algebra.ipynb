{
    "cells": [
        {
            "cell_type": "markdown",
            "id": "52d41e2c",
            "metadata": {},
            "source": [
                "# Linear Algebra"
            ]
        },
        {
            "cell_type": "markdown",
            "id": "c6736e5d",
            "metadata": {},
            "source": [
                "Linear Algebra is the branch of mathematics concerning linear equations that uses vector space and matrices.\n",
                "The two primary mathematical entities that are of interest in linear algebra are the vector and the matrix. They are examples of a more general entity known as a tensor. Tensors possess an order (or rank), which determines the number of dimensions in an array required to represent it.\n",
                "Matrix: Array of numbers in a rectangular form represented by rows and columns.\n",
                "\n",
                "Example: \n",
                "\n",
                "$$\\begin{matrix} 3 & 4 \\\\ 5 & 6 \\end{matrix}$$\n",
                "\n",
                "Vectors: A vector is a row or a column of a matrix.\n",
                "\n",
                "Example: \n",
                "\t\t \n",
                "$$\\begin{matrix} 3 \\\\ 4 \\\\ 5 \\end{matrix}$$\n",
                "\n",
                "Tensors:  Tensors are an array of numbers or functions that transmute with certain rules when coordinate changes.\n",
                "Machine Learning is the point of contact for Computer Science and Statistics.\n",
                "Numpy is a Python library that works with multidimensional arrays.\n",
                "\t\n",
                "\n",
                "### Vectors\n",
                "\n",
                "Given that scalars exist to represent values why are vectors necessary? One of the primary use cases for vectors is to represent physical quantities that have both a magnitude and a direction. Scalars are only capable of representing magnitudes.\n",
                "For instance, scalars and vectors encode the difference between the speed of a car and its velocity. The velocity contains not only its speed but also its direction of travel. \n",
                "In machine learning vectors often represent feature vectors, with their individual components specifying how important a particular feature is. Such features could include relative importance of words in a text document, the intensity of a set of pixels in a two-dimensional image, or historical price values for a cross-section of financial instruments.\n",
                "\n",
                "**Scalar operations**\n",
                "\n",
                "Scalar operations involve a vector and a number\n",
                "\n"
            ]
        },
        {
            "attachments": {
                "linear_algebra_scalar_operations.png": {
                    "image/png": "[encoded data removed]"
                }
            },
            "cell_type": "markdown",
            "id": "ef717237",
            "metadata": {},
            "source": [
                "![linear_algebra_scalar_operations.png](../assets/linear_algebra_scalar_operations.png)"
            ]
        },
        {
            "cell_type": "markdown",
            "id": "ae8ef9bb",
            "metadata": {},
            "source": [
                "**Vector multiplication**\n",
                "\n",
                "There are two types of vector multiplication: Dot product and Hadamard product.\n",
                "The dot product of two vectors is a scalar. Dot product of vectors and matrices (matrix multiplication) is one of the most important operations in deep learning.\n"
            ]
        },
        {
            "attachments": {
                "linear_algebra_dot_product.png": {
                    "image/png": "[encoded data removed]"
                }
            },
            "cell_type": "markdown",
            "id": "146d59b5",
            "metadata": {},
            "source": [
                "![linear_algebra_dot_product.png](../assets/linear_algebra_dot_product.png)"
            ]
        },
        {
            "cell_type": "markdown",
            "id": "dcd1d399",
            "metadata": {},
            "source": [
                "Hadamard Product is elementwise multiplication, and it outputs a vector."
            ]
        },
        {
            "attachments": {
                "linear_algebra_hadamard_product.png": {
                    "image/png": "[encoded data removed]"
                }
            },
            "cell_type": "markdown",
            "id": "a472d811",
            "metadata": {},
            "source": [
                "![linear_algebra_hadamard_product.png](../assets/linear_algebra_hadamard_product.png)"
            ]
        },
        {
            "cell_type": "markdown",
            "id": "72c4b002",
            "metadata": {},
            "source": [
                "\n",
                "### Matrices\n",
                "\n",
                "\n",
                "A matrix is a rectangular grid of numbers or terms (like an Excel spreadsheet) with special rules for addition, subtraction, and multiplication.\n",
                "Matrix dimensions: We describe the dimensions of a matrix in terms of rows by columns.\n",
                "\n",
                "**Matrix scalar operations**\n",
                "\n",
                "Scalar operations with matrices work the same way as they do for vectors. \n",
                "Simply apply the scalar to every element in the matrix — add, subtract, divide, multiply, etc.\n",
                "\n"
            ]
        },
        {
            "attachments": {
                "matrix_scalar_operations.png": {
                    "image/png": "[encoded data removed]"
                }
            },
            "cell_type": "markdown",
            "id": "5d17dd5a",
            "metadata": {},
            "source": [
                "![matrix_scalar_operations.png](../assets/matrix_scalar_operations.png)"
            ]
        },
        {
            "cell_type": "markdown",
            "id": "f9058573",
            "metadata": {},
            "source": [
                "**Matrix elementwise operations**\n",
                "\n",
                "To add, subtract, or divide two matrices they must have equal dimensions. \n",
                "We combine corresponding values in an elementwise fashion to produce a new matrix.\n"
            ]
        },
        {
            "attachments": {
                "matrix_elementwise_operations.png": {
                    "image/png": "[encoded data removed]"
                }
            },
            "cell_type": "markdown",
            "id": "f82a710e",
            "metadata": {},
            "source": [
                "![matrix_elementwise_operations.png](../assets/matrix_elementwise_operations.png)"
            ]
        },
        {
            "cell_type": "markdown",
            "id": "51e19bb2",
            "metadata": {},
            "source": [
                "**Matrix multiplication**\n",
                "\n",
                "Hadamard product of matrices is an elementwise operation. \n",
                "Values that correspond positionally are multiplied to produce a new matrix.\n"
            ]
        },
        {
            "attachments": {
                "matrix_hadamard_operations.png": {
                    "image/png": "[encoded data removed]"
                }
            },
            "cell_type": "markdown",
            "id": "6424f65e",
            "metadata": {},
            "source": [
                "![matrix_hadamard_operations.png](../assets/matrix_hadamard_operations.png)"
            ]
        },
        {
            "cell_type": "markdown",
            "id": "2800ccac",
            "metadata": {},
            "source": [
                "*Rules*\n",
                "\n",
                "The number of columns of the 1st matrix must equal the number of rows of the 2nd \n",
                "The product of an M x N matrix and an N x K matrix is an M x K matrix. \n",
                "The new matrix takes the rows of the 1st and columns of the 2nd\n",
                "\n",
                "**Matrix transpose**\n",
                "\n",
                "Matrix transpose provides a way to “rotate” one of the matrices so that the operation complies with multiplication requirements and can continue. \n",
                "There are two steps to transpose a matrix: \n",
                "\n",
                "1. Rotate the matrix right 90° \n",
                "2. Reverse the order of elements in each row (e.g. $[a b c]$ becomes $[c b a]$)\n",
                "\n",
                "Numpy uses the function np.dot $(A,B)$ for both vector and matrix multiplication.\n"
            ]
        },
        {
            "cell_type": "markdown",
            "id": "550ba0bb",
            "metadata": {},
            "source": [
                "### Basic Numerical Analysis\n",
                "\n",
                "The standard Python library for linear algebra is numpy. The basic object in numpy is ndarray, an n-dimensional generalization of Python's list."
            ]
        },
        {
            "cell_type": "code",
            "execution_count": 2,
            "id": "d26aa454",
            "metadata": {},
            "outputs": [
                {
                    "name": "stdout",
                    "output_type": "stream",
                    "text": [
                        "[1 2 3 4]\n",
                        "shape of a: (4,)\n",
                        "\n",
                        "[[1 2 3 4]]\n",
                        "shape of b: (1, 4)\n",
                        "\n",
                        "[[1]\n",
                        " [2]\n",
                        " [3]\n",
                        " [4]]\n",
                        "shape of c: (4, 1)\n",
                        "\n",
                        "[[1 2]\n",
                        " [3 4]]\n",
                        "shape of d: (2, 2)\n"
                    ]
                }
            ],
            "source": [
                "import numpy as np\n",
                "\n",
                "a = np.array([1, 2, 3, 4])\n",
                "b = np.array([[1, 2, 3, 4]])\n",
                "c = np.array([[1], [2], [3], [4]])\n",
                "d = np.array([[1, 2], [3, 4]])\n",
                "\n",
                "print(a)\n",
                "print('shape of a: {}'.format(a.shape))\n",
                "print()\n",
                "\n",
                "print(b)\n",
                "print('shape of b: {}'.format(b.shape))\n",
                "print()\n",
                "\n",
                "print(c)\n",
                "print('shape of c: {}'.format(c.shape))\n",
                "print()\n",
                "\n",
                "print(d)\n",
                "print('shape of d: {}'.format(d.shape))"
            ]
        },
        {
            "cell_type": "markdown",
            "id": "618588cb",
            "metadata": {},
            "source": [
                "The shape of an ndarray gives us the dimensions. b is a 1-by-4 matrix, or a row vector. c is a column vector. d is a 2-by-2 matrix.\n",
                "\n",
                "Entering a column vector requires many brackets, which can be tedious. We can instead use **transpose**."
            ]
        },
        {
            "cell_type": "code",
            "execution_count": 3,
            "id": "f93647aa",
            "metadata": {},
            "outputs": [
                {
                    "name": "stdout",
                    "output_type": "stream",
                    "text": [
                        "[[1 2 3 4]]\n",
                        "shape of b: (1, 4)\n",
                        "\n",
                        "[[1]\n",
                        " [2]\n",
                        " [3]\n",
                        " [4]]\n",
                        "shape of b.transpose(): (4, 1)\n"
                    ]
                }
            ],
            "source": [
                "print(b)\n",
                "print('shape of b: {}'.format(b.shape))\n",
                "print()\n",
                "\n",
                "print(b.transpose())\n",
                "print('shape of b.transpose(): {}'.format(b.transpose().shape))"
            ]
        },
        {
            "cell_type": "markdown",
            "id": "d157961e",
            "metadata": {},
            "source": [
                "Similarly, a matrix can be entered by first typing out a one-dimensional array and then putting the array through **reshape**:"
            ]
        },
        {
            "cell_type": "code",
            "execution_count": 7,
            "id": "61402e85",
            "metadata": {},
            "outputs": [
                {
                    "name": "stdout",
                    "output_type": "stream",
                    "text": [
                        "[[1 2 3 4]]\n",
                        "shape of b: (1, 4)\n",
                        "\n",
                        "[[1 2]\n",
                        " [3 4]]\n",
                        "shape of b.reshape((2,2)): [[1 2]\n",
                        " [3 4]]\n",
                        "\n",
                        "[[1]\n",
                        " [2]\n",
                        " [3]\n",
                        " [4]]\n",
                        "shape of b.reshape((4,1)): [[1]\n",
                        " [2]\n",
                        " [3]\n",
                        " [4]]\n"
                    ]
                }
            ],
            "source": [
                "print(b)\n",
                "print('shape of b: {}'.format(b.shape))\n",
                "print()\n",
                "\n",
                "print(b.reshape((2,2)))\n",
                "print('shape of b.reshape((2,2)): {}'.format(b.transpose().reshape((2,2))))\n",
                "print()\n",
                "\n",
                "print(b.reshape((4,1)))\n",
                "print('shape of b.reshape((4,1)): {}'.format(b.transpose().reshape((4,1))))\n"
            ]
        },
        {
            "cell_type": "markdown",
            "id": "b4b82066",
            "metadata": {},
            "source": [
                "There are a number of pre-built functions for special kinds of vectors and matrices."
            ]
        },
        {
            "cell_type": "code",
            "execution_count": 8,
            "id": "7e3897e2",
            "metadata": {},
            "outputs": [
                {
                    "name": "stdout",
                    "output_type": "stream",
                    "text": [
                        "[0 1 2 3 4]\n",
                        "\n",
                        "[2 3 4 5 6 7]\n",
                        "\n",
                        "[ 2  5  8 11 14]\n",
                        "\n",
                        "[[1.]]\n",
                        "\n",
                        "[[1. 0.]\n",
                        " [0. 1.]]\n",
                        "\n",
                        "[[1. 0. 0.]\n",
                        " [0. 1. 0.]\n",
                        " [0. 0. 1.]]\n",
                        "\n",
                        "[0.]\n",
                        "\n",
                        "[0. 0.]\n",
                        "\n",
                        "[0. 0. 0.]\n",
                        "\n"
                    ]
                }
            ],
            "source": [
                "print(np.arange(5))\n",
                "print()\n",
                "\n",
                "print(np.arange(2, 8))\n",
                "print()\n",
                "\n",
                "print(np.arange(2, 15, 3))\n",
                "print()\n",
                "\n",
                "print(np.eye(1))\n",
                "print()\n",
                "\n",
                "print(np.eye(2))\n",
                "print()\n",
                "\n",
                "print(np.eye(3))\n",
                "print()\n",
                "\n",
                "print(np.zeros(1))\n",
                "print()\n",
                "\n",
                "print(np.zeros(2))\n",
                "print()\n",
                "\n",
                "print(np.zeros(3))\n",
                "print()"
            ]
        },
        {
            "cell_type": "markdown",
            "id": "30f34a8a",
            "metadata": {},
            "source": [
                "Matrix multiplications are performed via **dot**:"
            ]
        },
        {
            "cell_type": "code",
            "execution_count": 9,
            "id": "17f2cca9",
            "metadata": {},
            "outputs": [
                {
                    "name": "stdout",
                    "output_type": "stream",
                    "text": [
                        "[[-1  1]\n",
                        " [-2  2]]\n",
                        "\n",
                        "[[-1  1]\n",
                        " [-2  2]]\n"
                    ]
                }
            ],
            "source": [
                "x = np.array([[2, 3], [5, 7]])\n",
                "y = np.array([[1, -1], [-1, 1]])\n",
                "\n",
                "print(np.dot(x,y))\n",
                "print()\n",
                "print(x.dot(y))"
            ]
        },
        {
            "cell_type": "markdown",
            "id": "1923fd09",
            "metadata": {},
            "source": [
                "ndarray supports coordinatewise operations. Observe, in particular, that * does not result in matrix multiplication."
            ]
        },
        {
            "cell_type": "code",
            "execution_count": 10,
            "id": "860d37d4",
            "metadata": {},
            "outputs": [
                {
                    "name": "stdout",
                    "output_type": "stream",
                    "text": [
                        "[4 6 8]\n",
                        "\n",
                        "[[3 2]\n",
                        " [1 0]]\n",
                        "\n",
                        "[[ 1  4  3]\n",
                        " [12 -5 -6]]\n",
                        "\n",
                        "[[0.5]\n",
                        " [1.5]]\n"
                    ]
                }
            ],
            "source": [
                "print(np.array([1, 2, 3]) + np.array([3,4,5]))\n",
                "print()\n",
                "\n",
                "print(np.array([[4,3],[2,1]]) - np.array([[1,1],[1,1]]))\n",
                "print()\n",
                "\n",
                "print(np.array([[1, 2, 3], [4, 5, 6]]) * np.array([[1, 2, 1], [3, -1, -1]]))\n",
                "print()\n",
                "\n",
                "print(np.array([[1], [3]]) / np.array([[2], [2]]))"
            ]
        },
        {
            "cell_type": "markdown",
            "id": "8c63e817",
            "metadata": {},
            "source": [
                "Operations with mismatching dimensions sometimes result in legitimate operation. For example, scalar multiplication works fine:"
            ]
        },
        {
            "cell_type": "code",
            "execution_count": 11,
            "id": "de421e33",
            "metadata": {},
            "outputs": [
                {
                    "data": {
                        "text/plain": [
                            "array([[ 6, 12,  9],\n",
                            "       [ 3,  6, 15],\n",
                            "       [-3, -3, -3]])"
                        ]
                    },
                    "execution_count": 11,
                    "metadata": {},
                    "output_type": "execute_result"
                }
            ],
            "source": [
                "3 * np.array([[2,4,3], [1,2,5], [-1, -1, -1]])"
            ]
        },
        {
            "cell_type": "markdown",
            "id": "47dcaf04",
            "metadata": {},
            "source": [
                "Row-wise operations and column-wise operations are also possible:"
            ]
        },
        {
            "cell_type": "code",
            "execution_count": 12,
            "id": "5984b4ad",
            "metadata": {},
            "outputs": [
                {
                    "name": "stdout",
                    "output_type": "stream",
                    "text": [
                        "[[0 1 2]\n",
                        " [3 4 5]\n",
                        " [6 7 8]]\n",
                        "\n",
                        "[[ 5  6  7]\n",
                        " [ 2  3  4]\n",
                        " [ 9 10 11]]\n",
                        "\n",
                        "[[ 5  0  5]\n",
                        " [ 8  3  8]\n",
                        " [11  6 11]]\n"
                    ]
                }
            ],
            "source": [
                "x = np.array([5, -1, 3])\n",
                "y = np.arange(9).reshape((3, 3))\n",
                "\n",
                "print(y)\n",
                "print()\n",
                "\n",
                "print(x.reshape((3, 1)) + y)\n",
                "print()\n",
                "\n",
                "print(x.reshape((1, 3)) + y)"
            ]
        },
        {
            "cell_type": "markdown",
            "id": "51b654e8",
            "metadata": {},
            "source": [
                "### Applications of Linear Algebra in the Machine Learning process.\n",
                "\n",
                "Linear Algebra is applicable in predictions, signal analysis, facial recognition, etc.\n",
                "\n",
                "Some applications:\n",
                "\n",
                "-\tData in a dataset is vectorized. Rows are inserted into a model one at a time for easier and authentic calculations.\n",
                "\n",
                "-\tAll images are tabular in structure. It forms a matrix in Linear Algebra. Image editing techniques such as cropping and scaling use algebraic operations.\n",
                "\n",
                "-\tRegularization is a method that minimizes the size of coefficients while inserting it into data.\n",
                "\n",
                "-\tDeep learning work with vectors, matrices, and even tensors as it requires linear data structures added and multiplied together.\n",
                "\n",
                "-\tThe ‘One hot encoding’ method encodes categories for easier algebra operations.\n",
                "\n",
                "-\tIn linear regression, linear algebra is used to describe the relationship among variables.\n",
                "\n",
                "-\tWhen we find irrelevant data, we normally remove redundant columns, so PCA acts with matrix factorization.\n",
                "\n",
                "-\tWith the help of linear algebra, recommender systems can have more purified data.\n"
            ]
        },
        {
            "cell_type": "markdown",
            "id": "a1288572",
            "metadata": {},
            "source": [
                "Source:\n",
                "\n",
                "https://www.educba.com/linear-algebra-in-machine-learning/\n",
                "\n",
                "https://en.wikipedia.org/wiki/Linear_algebra\n",
                "\n",
                "https://www.quantstart.com/articles/scalars-vectors-matrices-and-tensors-linear-algebra-for-deep-learning-part-1/#:~:text=Vectors%20and%20Matrices%20The%20two%20primary%20mathematical%20entities,a%20more%20general%20entity%20known%20as%20a%20tensor.\n",
                "\n",
                "https://github.com/markkm/math-for-ml\n",
                "\n",
                "https://towardsdatascience.com/linear-algebra-cheat-sheet-for-deep-learning-cd67aba4526c\n"
            ]
        }
    ],
    "metadata": {
        "interpreter": {
            "hash": "9248718ffe6ce6938b217e69dbcc175ea21f4c6b28a317e96c05334edae734bb"
        },
        "kernelspec": {
            "display_name": "Python 3.9.12 ('ML-BOOTCAMP')",
            "language": "python",
            "name": "python3"
        },
        "language_info": {
            "codemirror_mode": {
                "name": "ipython",
                "version": 3
            },
            "file_extension": ".py",
            "mimetype": "text/x-python",
            "name": "python",
            "nbconvert_exporter": "python",
            "pygments_lexer": "ipython3",
            "version": "3.9.12"
        }
    },
    "nbformat": 4,
    "nbformat_minor": 5
}
