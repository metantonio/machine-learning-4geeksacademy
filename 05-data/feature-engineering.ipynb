{
 "cells": [
  {
   "cell_type": "markdown",
   "id": "410097fb",
   "metadata": {},
   "source": [
    "# Feature Engineering"
   ]
  },
  {
   "cell_type": "markdown",
   "id": "23f5d2fd",
   "metadata": {},
   "source": [
    "Feature engineering is an essential part of building any intelligent system. This is the reason Data Scientists and Machine learning engineers often spend 70% of their time in the data preparation phase before modeling. "
   ]
  },
  {
   "cell_type": "markdown",
   "id": "12e10ff1",
   "metadata": {},
   "source": [
    "![density_curve.jpg](../assets/ml_pipeline.jpg)"
   ]
  },
  {
   "cell_type": "markdown",
   "id": "b22c11dc",
   "metadata": {},
   "source": [
    "*A standard machine learning pipeline (source: Practical Machine Learning with Python, Apress/Springer)*"
   ]
  },
  {
   "attachments": {},
   "cell_type": "markdown",
   "id": "2fc37668",
   "metadata": {},
   "source": [
    "Specifically, we’ll learn how to modify dataset variables to extract meaningful information in order to capture as much insight as possible, leaving datasets and their variables ready to be used in machine learning algorithms.\n",
    "\n",
    "**What is a feature?**\n",
    "\n",
    "A feature is typically a specific representation on top of raw data, which is an individual, measurable attribute, typically depicted by a column in a dataset. Considering a generic two-dimensional dataset, each observation is depicted by a row and each feature by a column, which will have a specific value for an observation. That said, a feature is a variable, which we can explain as any characteristic, number, or quantity that can be measured or counted. We call them variables because the values they take may vary.\n",
    "\n",
    "Examples of variables may be:\n",
    "\n",
    "Age ( 10,15,17,21,30,...)\n",
    "\n",
    "Country (USA, Thailand, Japan, Argentina,...)\n",
    "\n",
    "Energy usage (220, 50, 130, 88,...)\n",
    "\n",
    "We classify variables in a dataset into one of these major types:\n",
    "\n",
    "- Numerical variables\n",
    "\n",
    "- Categorical variables\n",
    "\n",
    "- Datetime variables\n",
    "\n",
    "- Mixed variables\n",
    "\n",
    "Features can be of two major types based on the dataset. Inherent raw features are obtained directly from the dataset with no extra data manipulation or engineering. Derived features are usually obtained from feature engineering, where we extract features from existing data attributes. A simple example would be creating a new feature “BMI” from an employee dataset containing “Weight” and \"Height\" by just using the formula with weight and height.\n",
    "\n",
    "**What is feature engineering?**\n",
    "\n",
    "Feature engineering is the process of using data domain knowledge to create and transform features or variables that make machine learning algorithms work more efficiently. It’s a fundamental task for improving machine learning model performance and prediction accuracy.\n",
    "\n",
    "Feature engineering can be very time consuming because it includes a number of processes, like:\n",
    "\n",
    "- Filling missing values within a variable\n",
    "\n",
    "- Creating or extracting new features from the ones available in your dataset\n",
    "\n",
    "- Encoding categorical variables into numbers\n",
    "\n",
    "- Variable transformation\n",
    "\n",
    "**Why do we need to do feature engineering?**\n",
    "\n",
    "Every time we start a new machine learning project, whether we receive a raw dataset or we do web scraping to obtain the data, data will most certainly be messy and not suitable for training a model. We need to always perform some data exploration at the beginning to find empty values, outliers, data types, relationships,etc. After we understand better the data we have, we can start doing feature engineering tasks to build high performance models. The succeess of an algorithm can often hinge on how we engineer the input features.\n",
    "\n",
    "**Do not confuse feature engineering with feature selection**. Feature selection allows us to select features from the feature pool (including any newly-engineered ones) that will help machine learning models make predictions on target variables more efficiently. In a typical machine learning pipeline, we perform feature selection after completing feature engineering."
   ]
  },
  {
   "cell_type": "markdown",
   "id": "872b1dd5",
   "metadata": {},
   "source": [
    "### Feature Engineering on numeric data"
   ]
  },
  {
   "cell_type": "markdown",
   "id": "16b018ed",
   "metadata": {},
   "source": [
    "Even though numeric data can be directly fed into machine learning models, we still need to engineer features which are relevant to the problem, before building a model.\n",
    "\n",
    "A form of raw measures include features which represent frequencies, counts or occurrences of specific attributes.\n",
    "\n",
    "Now if I’m building a recommendation system for song recommendations, I would just want to know if a person is interested or has listened to a particular song. This doesn’t require the number of times a song has been listened to since I am more concerned about the various songs he\\she has listened to.  In this case, a binary feature is preferred as opposed to a count based feature.\n",
    "\n",
    "The problem of working with raw, continuous numeric features is that often the distribution of values in these features will be skewed. This signifies that some values will occur quite frequently while some will be quite rare.\n",
    "\n",
    "Binning, also known as quantization is used for transforming continuous numeric features into discrete ones (categories). These discrete values or numbers can be thought of as categories or bins into which the raw, continuous numeric values are binned or grouped into. Each bin represents a specific degree of intensity and hence a specific range of continuous numeric values fall into it.\n",
    "\n",
    "An example of this would be to create bins by age groups, like the following example:"
   ]
  },
  {
   "cell_type": "markdown",
   "id": "09212164",
   "metadata": {},
   "source": [
    "![feature_engineering_numerical.jpg](../assets/feature_engineering_numerical.jpg)"
   ]
  },
  {
   "cell_type": "markdown",
   "id": "330f1407",
   "metadata": {},
   "source": [
    "The above histogram depicting developer ages is slightly right skewed as expected (lesser aged developers).\n",
    "\n",
    "Example code:\n",
    "\n",
    "```py\n",
    "data = pd.DataFrame({'Age':[0,2,4,13,35,-1,54]})\n",
    "​\n",
    "bins= [0,2,4,13,20,110]\n",
    "labels = ['Infant','Toddler','Kid','Teen','Adult']\n",
    "data['AgeGroup'] = pd.cut(data['Age'], bins=bins, labels=labels, right=False)\n",
    "print (data)\n",
    "```"
   ]
  },
  {
   "cell_type": "markdown",
   "id": "8ed5b25e",
   "metadata": {},
   "source": [
    "### Feature engineering on categorical data"
   ]
  },
  {
   "attachments": {},
   "cell_type": "markdown",
   "id": "8c690e7f",
   "metadata": {},
   "source": [
    "Typically, any data attribute which is categorical in nature represents discrete values which belong to a specific finite set of categories or classes. These discrete values can be text or numeric in nature (or even unstructured data like images!). There are two major classes of categorical data, nominal and ordinal.\n",
    "\n",
    "- Consider a simple example of colour categories. Let's say we have five major classes or categories in this particular scenario without any concept or notion of order (yellow doesn’t always occur before red nor is it smaller or bigger than red). As there is no concept of ordering, this would be a nominal categorical attribute.\n",
    "\n",
    "- Ordinal categorical attributes have some sense or notion of order amongst its values. Sizes, education level and employment roles are some other examples of ordinal categorical attributes.\n",
    "\n",
    "Normally, categorical features have to be converted into numbers for the machine learning model to understand it. We will see about label encoding techniques in a specific lesson. \n",
    "\n",
    "If we want to see the list of unique labels in any categorical feature, we can use the following code:\n",
    "\n",
    "```py\n",
    "music_genres = np.unique(df['Genre'])\n",
    "music_genres\n",
    "```\n",
    "\n",
    "or we can do it directly in our dataframe like this:\n",
    "\n",
    "```py\n",
    "df.column.unique()\n",
    "```\n"
   ]
  },
  {
   "cell_type": "markdown",
   "id": "f5f7e975",
   "metadata": {},
   "source": [
    "### What are some naive feature engineering techniques that improve model efficacy?\n",
    "\n",
    "1. Summary statistics (mean, median, mode, min, max, std) for each group of similar records. For example, all female customers between the age 34 and 45 would get their own set of summary statistics.\n",
    "\n",
    "2. Interactions or ratios between features. For example, var1 * var2.\n",
    "\n",
    "3. Summaries of features. For example, the number of purchases a customer made in the last 30 days (raw features may be last 10 purchase dates).\n",
    "\n",
    "4. Splitting feature information manually. For example, customers taller than 1.80cm would be a critical piece of information when recommending car vs SUV.\n",
    "\n",
    "5. KNN using records in the training set to produce a KNN feature that is fed into another model."
   ]
  },
  {
   "cell_type": "markdown",
   "id": "2ad1a749",
   "metadata": {},
   "source": [
    "Source:\n",
    "\n",
    "https://towardsdatascience.com/understanding-feature-engineering-part-1-continuous-numeric-data-da4e47099a7b\n",
    "\n",
    "https://towardsdatascience.com/understanding-feature-engineering-part-2-categorical-data-f54324193e63\n",
    "\n",
    "https://medium.com/@mxcsyounes/hands-on-with-feature-engineering-techniques-broad-introduction-def389c1fc25"
   ]
  }
 ],
 "metadata": {
  "kernelspec": {
   "display_name": "Python 3 (ipykernel)",
   "language": "python",
   "name": "python3"
  },
  "language_info": {
   "codemirror_mode": {
    "name": "ipython",
    "version": 3
   },
   "file_extension": ".py",
   "mimetype": "text/x-python",
   "name": "python",
   "nbconvert_exporter": "python",
   "pygments_lexer": "ipython3",
   "version": "3.9.7"
  }
 },
 "nbformat": 4,
 "nbformat_minor": 5
}
