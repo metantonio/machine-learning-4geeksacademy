{
 "cells": [
  {
   "cell_type": "markdown",
   "id": "8c2010a3",
   "metadata": {},
   "source": [
    "# Importación de archivos en Python"
   ]
  },
  {
   "cell_type": "markdown",
   "id": "08140e4f",
   "metadata": {},
   "source": [
    "En esta lectura vamos a ver ejemplos de código sobre cómo cargar diferentes tipos de archivos. No es código ejecutable. Se puede usar como referencia siempre que cargues un nuevo tipo de archivo en tu computadora portátil."
   ]
  },
  {
   "cell_type": "markdown",
   "id": "ab2847a8",
   "metadata": {},
   "source": [
    "### Importación de archivos planos con Numpy\n",
    "\n",
    "```py\n",
    "import numpy as np\n",
    " \n",
    "# Asignar nombre de archivo a la variable: archivo\n",
    "file = 'digits.csv'\n",
    " \n",
    "# Cargar archivo como array: dígitos\n",
    "digits = np.loadtxt(file, delimiter=',')\n",
    " \n",
    "# Imprimir tipo de datos de dígitos\n",
    "print(type(digits))\n",
    "```"
   ]
  },
  {
   "cell_type": "markdown",
   "id": "a3242013",
   "metadata": {},
   "source": [
    "Hay una serie de argumentos que toma np.loadtxt() que encontrarás útiles para cambiar:\n",
    "\n",
    "- Delimitador cambia el delimitador que espera loadtxt().\n",
    "\n",
    "- Skiprows te permite especificar cuántas filas (no índices) deseas omitir (por ejemplo, si no deseas incluir el encabezado).\n",
    "\n",
    "- Usecols toma una lista de los índices de las columnas que deseas conservar.\n",
    "\n",
    "Si tenemos un archivo que incluye un encabezado que consta de strings (cadenas) y tratamos de importarlo tal como está usando np.load_txt(), Python nos lanzaría un ValueError diciendo que no pudo convertir la string en flotante (float). Tenemos dos formas de solucionar esto:\n",
    "\n",
    "1. Establece el argumento de tipo de datos dtype igual a str (por string).\n",
    "2. Omite la primera fila usando el argumento skiprows.\n",
    "\n",
    "¿Qué sucede si tenemos diferentes tipos de datos en diferentes columnas?\n",
    "\n",
    "La función np.loadtxt() se asustará con esto, pero hay otra función, np.genfromtxt(), que puede manejar tales estructuras. Al escribir dtype=None en él, averiguará qué tipos debe tener cada columna. El parámetro names=True indica que hay un encabezado.\n",
    "\n",
    "También hay otra función, np.recfromcsv(), que se comporta de manera similar a np.genfromtxt(), excepto que su dtype predeterminado es Ninguno."
   ]
  },
  {
   "cell_type": "markdown",
   "id": "daa6c5d8",
   "metadata": {},
   "source": [
    "### Importación de archivos planos como marcos de datos con Pandas"
   ]
  },
  {
   "cell_type": "markdown",
   "id": "da71f85e",
   "metadata": {},
   "source": [
    "**ARCHIVOS CSV**\n",
    "\n",
    "Podemos importar fácilmente archivos de tipos de datos mixtos como DataFrames usando las funciones de Pandas read_csv() y read_table().\n",
    "\n",
    "```py\n",
    "import pandas as pd\n",
    " \n",
    "# Asignar el nombre de archivo a una variable\n",
    "file = 'titanic.csv'\n",
    " \n",
    "# Leer el archivo en una variable DataFrame\n",
    "df = pd.read_csv(file)\n",
    " \n",
    "# Ver las primeras filas del DataFrame\n",
    "print(df.head())\n",
    "```\n",
    "\n",
    "También es posible recuperar el array Numpy correspondiente utilizando los valores de los atributos.\n",
    "\n",
    "```py\n",
    "# Crear un array Numpy desde DataFrame: data_array\n",
    "data_array = np.array(data.values)\n",
    "```\n",
    "\n",
    "A veces nos encontraremos lidiando con archivos corruptos que pueden incluir comentarios, valores faltantes, etc.\n",
    "\n",
    "Podemos cargar esos archivos dañados con Pandas de la siguiente manera:\n",
    "\n",
    "```py\n",
    "# Importar archivo: datos\n",
    "data = pd.read_csv(file, sep='\\t', comment='#', na_values='Nothing')\n",
    "```"
   ]
  },
  {
   "cell_type": "markdown",
   "id": "5fdd395d",
   "metadata": {},
   "source": [
    "**ARCHIVOS EXCEL**\n",
    "\n",
    "En algún momento, también tendremos que lidiar con archivos de Excel. Dado un archivo de Excel importado en una variable, puedes recuperar una lista de los nombres de las hojas usando el atributo sheet_names.\n",
    "\n",
    "```py\n",
    "import pandas as pd\n",
    " \n",
    "# Asignar hoja de cálculo a una variable de archivo\n",
    "file = 'battledeath.xlsx'\n",
    " \n",
    "# Cargar hoja de cálculo: excel\n",
    "excel_file = pd.ExcelFile(file)\n",
    " \n",
    "# Imprimir nombres de hojas\n",
    "print(excel_file.sheet_names)\n",
    "\n",
    "\n",
    "```\n",
    "\n",
    "Aprenderemos cómo importar cualquier hoja dada de nuestro archivo .xslx cargado como un DataFrame. Podremos hacerlo especificando el nombre de la hoja o su índice.\n",
    "\n",
    "```py\n",
    "# Cargar la hoja '2004' en un DataFrame df1\n",
    "df1 = excel_file.parse('2004')\n",
    "\n",
    "# Imprimir el encabezado del DataFrame df1\n",
    "print(df1.head())\n",
    "\n",
    "# Cargar una hoja en un DataFrame por índice: df2\n",
    "df2 = excel_file.parse(0)\n",
    "\n",
    "# Imprimir el encabezado del DataFrame df2\n",
    "print(df2.head())\n",
    "```\n",
    "\n",
    "Hemos utilizado el método parse(). Sin embargo, podemos agregar argumentos adicionales como skiprows, names y parse_cols. Estos argumentos saltan filas, nombran las columnas y designan qué columnas analizar, respectivamente. Todos estos argumentos se pueden asignar a listas que contienen números de fila, cadenas y números de columna específicos, según corresponda.\n",
    "\n",
    "```py\n",
    "# Analizar la primera columna de la segunda hoja y cambiar el nombre de la columna: df2\n",
    "\n",
    "df2 = excel_file.parse(1, parse_cols=[0], skiprows=[0], names=['City'])\n",
    "```"
   ]
  },
  {
   "attachments": {},
   "cell_type": "markdown",
   "id": "8dc72762",
   "metadata": {},
   "source": [
    "**ARCHIVOS SAS**\n",
    "\n",
    "Aprenderemos a importar un archivo SAS como DataFrame usando SAS7BDAT y pandas.\n",
    "\n",
    "```py\n",
    "import pandas as pd\n",
    "import matplotlib.pyplot as plt\n",
    "from sas7bdat import SAS7BDAT\n",
    "\n",
    "# Guarda el archivo en un DataFrame: df_sas\n",
    "with SAS7BDAT('examplefile.sas7bdat') as file:\n",
    "    df_sas = file.to_data_frame()\n",
    " \n",
    "print(df_sas.head())\n",
    "```"
   ]
  },
  {
   "cell_type": "markdown",
   "id": "d4c32821",
   "metadata": {},
   "source": [
    "**ARCHIVOS STATA**\n",
    "\n",
    "Cómo importar un archivo Stata como DataFrame usando la función pd.read_stata() de Pandas:\n",
    "\n",
    "```py\n",
    "import pandas as pd\n",
    "import matplotlib.pyplot as plt\n",
    " \n",
    "# Cargar el archivo Stata en un DataFrame de Pandas: df\n",
    "df = pd.read_stata('examplefile.dta')\n",
    "\n",
    "# Histograma de lotes de una columna del DataFrame\n",
    "pd.DataFrame.hist(df[['column1']])\n",
    "```"
   ]
  },
  {
   "cell_type": "markdown",
   "id": "6a3d10b9",
   "metadata": {},
   "source": [
    "**ARCHIVOS HDF5**\n",
    "\n",
    "```py\n",
    "import numpy as np\n",
    "import h5py\n",
    " \n",
    "file = 'examplefile.hdf5'\n",
    " \n",
    "# Cargar archivo: datos\n",
    "data = h5py.File(file, 'r')\n",
    "```"
   ]
  },
  {
   "cell_type": "markdown",
   "id": "9f37206f",
   "metadata": {},
   "source": [
    "**ARCHIVOS MATLAB**\n",
    "\n",
    "En el caso de archivos matlab usaremos scipy.\n",
    "\n",
    "```py\n",
    "import scipy.io\n",
    " \n",
    "mat = scipy.io.loadmat('examplefile.mat')\n",
    "```"
   ]
  }
 ],
 "metadata": {
  "kernelspec": {
   "display_name": "Python 3.8.13 64-bit ('3.8.13')",
   "language": "python",
   "name": "python3"
  },
  "language_info": {
   "codemirror_mode": {
    "name": "ipython",
    "version": 3
   },
   "file_extension": ".py",
   "mimetype": "text/x-python",
   "name": "python",
   "nbconvert_exporter": "python",
   "pygments_lexer": "ipython3",
   "version": "3.8.13"
  },
  "vscode": {
   "interpreter": {
    "hash": "110cc1dee26208153f2972f08a2ad52b6a56238dc66d48e87fb757ef2996db56"
   }
  }
 },
 "nbformat": 4,
 "nbformat_minor": 5
}
