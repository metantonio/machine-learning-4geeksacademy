{
 "cells": [
  {
   "cell_type": "markdown",
   "id": "e9ebad92",
   "metadata": {},
   "source": [
    "# Cómo conectarse a bases de datos SQL usando Python"
   ]
  },
  {
   "cell_type": "markdown",
   "id": "a493f5a9",
   "metadata": {},
   "source": [
    "Como ingenieros de Machine Learning, probablemente tengamos que interactuar con bases de datos SQL para acceder a los datos. SQL significa \"Structured Query Language\" (lenguaje de consulta estructurado). La diferencia clave entre SQL y Python es que los desarrolladores usan SQL para acceder y extraer datos de una base de datos, mientras que los desarrolladores usan Python para analizar y manipular datos ejecutando pruebas de regresión, pruebas de series temporales y otros cálculos de procesamiento de datos.\n",
    "\n",
    "Algunas bases de datos SQL populares son SQLite, PostgreSQL, MySQL. SQLite es mejor conocido por ser una base de datos integrada. Esto significa que no tenemos que instalar una aplicación adicional o usar un servidor separado para ejecutar la base de datos. Se mueve rápido pero tiene una funcionalidad limitada, por lo que si no necesitamos mucho espacio de almacenamiento de datos, querremos usar una base de datos SQLite. Por otro lado, PostgreSQL y MySQL tienen tipos de bases de datos que son excelentes para soluciones empresariales. Si necesitamos escalar rápido, MySQL y PostgreSQL son la mejor opción. Proporcionarán infraestructura a largo plazo, reforzarán la seguridad y manejarán actividades de alto rendimiento.\n",
    "\n",
    "En esta lección veremos cómo interactúan Python y algunas bases de datos SQL. ¿Por qué deberíamos preocuparnos por conectar Python y una base de datos SQL?\n",
    "\n",
    "Tal vez, como ingenieros de Machine Learning, necesitemos construir un \"ETL pipeline\" (tubería ETL) automatizado. Conectar Python a una base de datos SQL nos permitirá usar Python para sus capacidades de automatización. También podremos comunicarnos entre diferentes fuentes de datos. No tendremos que cambiar entre diferentes lenguajes de programación, podremos usar nuestras habilidades de Python para manipular datos de una base de datos SQL. No necesitaremos un archivo CSV.\n",
    "\n",
    "Lo importante a recordar es que Python puede integrarse con cada tipo de base de datos. Las bases de datos de Python y SQL se conectan a través de bibliotecas de Python personalizadas. Puede importar estas bibliotecas a su secuencia de comandos de Python.\n",
    "\n",
    "**El siguiente es un ejemplo de código sobre cómo conectarse a una base de datos SQL:**"
   ]
  },
  {
   "attachments": {},
   "cell_type": "markdown",
   "id": "766374bb",
   "metadata": {},
   "source": [
    "```py\n",
    "from dbmodule import connect \n",
    "\n",
    "#Crea un objeto de conexión\n",
    "\n",
    "CONNECTION = CONNECT('databse name', 'username','password')\n",
    "\n",
    "#Crea un objeto de cursor\n",
    "\n",
    "CURSOR = CONNECTION.CURSOR()\n",
    "\n",
    "#Ejecuta consultas\n",
    "\n",
    "CURSOR.EXECUTE('select * from mytable')\n",
    "RESULTS = CURSOR.FETCHALL()\n",
    "\n",
    "#Recursos gratuitos\n",
    "\n",
    "CURSOR.CLOSE()\n",
    "```"
   ]
  },
  {
   "cell_type": "markdown",
   "id": "e0158aa9",
   "metadata": {},
   "source": [
    "**Código de ejemplo para conectarse a una base de datos PostreSQL y almacenar datos en un dataframe (marco de datos) de Pandas:**\n",
    "\n",
    "En este caso, elegimos AWS Redshift. Importaremos la biblioteca Psycopg. Esta biblioteca traduce el código Python que escribimos para hablar con la base de datos PostgreSQL (AWS Redshift).\n",
    "\n",
    "De lo contrario, AWS Redshift no entendería nuestro código de Python. Pero debido a la biblioteca Psycopg, ahora hablará un idioma que AWS Redshift puede entender."
   ]
  },
  {
   "cell_type": "markdown",
   "id": "dce14dbb",
   "metadata": {},
   "source": [
    "```py\n",
    "#Biblioteca para conectarse a AWS Redshift\n",
    "import psycopg\n",
    "\n",
    "#Biblioteca para leer el archivo de configuración, que está en JSON\n",
    "import json\n",
    "\n",
    "#Biblioteca de manipulación de datos\n",
    "import pandas as pd\n",
    "```\n",
    "\n",
    "Importamos JSON porque crear un archivo de configuración JSON es una forma segura de almacenar las credenciales de su base de datos. ¡No queremos que nadie más los mire! La función json.load() lee el archivo JSON para que podamos acceder a las credenciales de nuestra base de datos en el siguiente paso.\n",
    "\n",
    "```py\n",
    "config_file = open(r\"C:\\Users\\yourname\\config.json\")\n",
    "config = json.load(config_file)\n",
    "```\n",
    "\n",
    "Ahora queremos crear una conexión de base de datos. Tendremos que leer y usar las credenciales de nuestro archivo de configuración:\n",
    "\n",
    "```py\n",
    "con = psycopg2.connect(dbname= \"db_name\", host=config[hostname], port = config[\"port\"],user=config[\"user_id\"], password=config[\"password_key\"])\n",
    "cur = con.cursor()\n",
    "```"
   ]
  },
  {
   "cell_type": "markdown",
   "id": "7329110a",
   "metadata": {},
   "source": [
    "### Crear y conectarse a una base de datos SQLite usando Python"
   ]
  },
  {
   "cell_type": "markdown",
   "id": "e32bca37",
   "metadata": {},
   "source": [
    "Como ya mencionamos, SQLite es un sistema de administración de bases de datos de relaciones que es liviano y fácil de configurar. SQLite no tiene servidor, lo cual es su mayor ventaja. No requiere un servidor para ejecutar una base de datos, a diferencia de otros RDMS como MySQL o PostgreSQL. Así que no necesitamos ninguna configuración de instalación.\n",
    "\n",
    "Las bases de datos SQLite se almacenan localmente, con archivos almacenados en el disco. Esto hace que acceder y administrar los datos en la base de datos sea notablemente rápido.\n",
    "\n",
    "SQLite databases are stored locally, with files stored in the disk. This makes accessing and managing the data in the database is remarkably fast.\n",
    "\n",
    "**Código de ejemplo para crear una base de datos:**\n",
    "\n",
    "```py\n",
    "import sqlite3\n",
    "\n",
    "connection = sqlite3.connect('shows.db')  #creando una base de datos con nombre:\n",
    "cursor = connection.cursor()   #crea un objeto de cursor para crear una tabla\n",
    "cursor.execute('''CREATE TABLE IF NOT EXISTS Shows\n",
    "              (Title TEXT, Director TEXT, Year INT)''')  #crear una tabla con nombres de columnas y tipos de datos\n",
    "\n",
    "connection.commit()  #confirmar los cambios en la base de datos\n",
    "connection.close()  #cerrar la conexión\n",
    "```\n",
    "\n",
    "Después de ejecutar el archivo, en el directorio de su proyecto actual, se crea un archivo llamado shows.db. Este es el archivo de base de datos SQLite generado por Python.\n",
    "\n",
    "**Código de ejemplo para conectarse a la base de datos:**\n",
    "\n",
    "```py\n",
    "\n",
    "from sqlalchemy import create_engine\n",
    "import pandas as pd\n",
    " \n",
    "#Crea motor: motor\n",
    "engine = create_engine('sqlite:///databse_name.sqlite')\n",
    " \n",
    "#Guarda los nombres de las tablas en una lista: table_names\n",
    "table_names = engine.table_names()\n",
    " \n",
    "#Imprime los nombres de las tablas en el shell.\n",
    "print(table_names)\n",
    " \n",
    "#Abre la conexión del motor: \"con\" (estafa) y seleccione las columnas y el número de filas especificados\n",
    "\n",
    "with engine.connect() as con:\n",
    "    ab = con.execute(\"SELECT Title, Director FROM Shows\")\n",
    "    df = pd.DataFrame(ab.fetchmany(size=5))\n",
    "    df.columns = ab.keys()\n",
    "\n",
    "#Conexión cercana\n",
    "con.close()\n",
    " \n",
    "#Imprime las primeras filas del dataframe\n",
    "print(df.head())\n",
    "```"
   ]
  },
  {
   "cell_type": "markdown",
   "id": "b32a462c",
   "metadata": {},
   "source": [
    "### Conectando a una base de datos DB2"
   ]
  },
  {
   "cell_type": "markdown",
   "id": "e912c9d4",
   "metadata": {},
   "source": [
    "IBM Db2 es una familia de productos de gestión de datos, incluida la base de datos relacional Db2. El plan gratuito proporciona 200 MB de almacenamiento de datos en la nube. Para practicar la creación de una base de datos SQL y la escritura de consultas SQL, este es un buen lugar para comenzar.\n",
    "\n",
    "Podemos crear nuestras tablas en la nube o directamente desde nuestro notebook (cuaderno) usando Python. Para hacerlo con Python, primero debemos conectarnos a nuestra base de datos en la nube utilizando las credenciales que se nos proporcionaron en el momento en que se creó la instancia de la base de datos."
   ]
  },
  {
   "cell_type": "markdown",
   "id": "52a3658b",
   "metadata": {},
   "source": [
    "Para conectarse a un DB2, se requiere la siguiente información:\n",
    "\n",
    "- Nombre del controlador.\n",
    "- Nombre de la base de datos.\n",
    "- Nombre de host DNS o IP.\n",
    "- Puerto host.\n",
    "- Protocolo de conexión.\n",
    "- Identificación de usuario.\n",
    "- Contraseña.\n",
    "\n",
    "Ejemplo para crear una conexión de base de datos:"
   ]
  },
  {
   "cell_type": "markdown",
   "id": "e573e4f8",
   "metadata": {},
   "source": [
    "```py\n",
    "#Crea conexión de base de datos\n",
    "\n",
    "dsn = (\n",
    "    \"Driver = { {IBM DB2 ODBC DRIVER}};\"\n",
    "    \"Database = {0};\"\n",
    "    \"HOSTNAME = {1};\"\n",
    "    \"PORT = {2};\"\n",
    "    \"PROTOCOL = TCPIP;\"\n",
    "    \"UID = {3};\"\n",
    "    \"PWD = {4};\").format(dsn_database, dsn_hostname, dsn_port, dsn_uid, dsn_pwd)\n",
    "\n",
    "try: \n",
    "    conn = ibm_db.connect(dsn, \" \", \" \")\n",
    "    print(\"Connected!\")\n",
    "    \n",
    "except:\n",
    "    print(\"Unable to connect to database\")\n",
    "    \n",
    "#Cierra la conexión a la base de datos\n",
    "\n",
    "ibm_db.close(conn)\n",
    "\n",
    "#Nota: Siempre es importante cerrar las conexiones para evitar que los conectores no utilizados consuman recursos.\n",
    "```"
   ]
  },
  {
   "cell_type": "markdown",
   "id": "0691d4ef",
   "metadata": {},
   "source": [
    "**Cómo crear una tabla desde Python**\n",
    "\n",
    "ibm_db.exec_inmediate()  --> función de la API ibm_db\n",
    "\n",
    "Parámetros para la función:\n",
    "\n",
    "- Conexión.\n",
    "- Declaración.\n",
    "- Opciones.\n",
    "\n",
    "Ejemplo: Creando una tabla llamada CARS en Python."
   ]
  },
  {
   "cell_type": "markdown",
   "id": "9bd066d8",
   "metadata": {},
   "source": [
    "\n",
    "#CREAR TABLA\n",
    "```py\n",
    "stmt = ibm_db.exec_inmediate(conn, \"CREATE TABLE Cars(\n",
    "    serial_no VARCHAR(20) PRIMARY KEY NOT NULL,\n",
    "    make varchar(20) NOT NULL,\n",
    "    model VARCHAR(20) NOT NULL,\n",
    "    car_class VARCHAR(20) NOT NULL)\"\n",
    "    )\n",
    "```\n",
    "\n",
    "#CARGAR DATOS EN LA TABLA\n",
    "```py\n",
    "stmt = ibm_db.exec_inmediate(conn, \"INSERT INTO Cars(\n",
    "    serial_no, make, model, car_class)\n",
    "    VALUES('A2345453','Ford','Mustang','class3');\")\n",
    "```\n",
    "\n",
    "#OBTENER DATOS DE LA TABLA CARS \n",
    "```py\n",
    "stmt = ibm_db.exec_inmediate(conn, \"SELECT * FROM Cars\")\n",
    "\n",
    "ibm_db.fetch_both(stmt)\n",
    "```"
   ]
  },
  {
   "cell_type": "markdown",
   "id": "8aef772d",
   "metadata": {},
   "source": [
    "**Using pandas to retrieve data from the tables**\n",
    "\n",
    "Example:\n"
   ]
  },
  {
   "cell_type": "markdown",
   "id": "e40e5f7f",
   "metadata": {},
   "source": [
    "```py\n",
    "\n",
    "import pandas\n",
    "import ibm_db_dbi\n",
    "pconn = ibm_db_dbi.connection(conn)\n",
    "\n",
    "df = pandas.read_sql('SELECT * FROM Cars', pconn)\n",
    "df\n",
    "\n",
    "#Ejemplo de una gráfica\n",
    "\n",
    "import matplotlib.pyplot as plt\n",
    "%matplotlib inline\n",
    "import seaborn as sns \n",
    "\n",
    "#Diagrama de dispersión categórica\n",
    "\n",
    "plot = sns.swarmplot(x=\"Category\", y=\"Calcium\", data=df)\n",
    "plt.setp(plot.get_xticklabels(), rotation=70)\n",
    "plt.title('Calcium content')\n",
    "plt.show()\n",
    "\n",
    "#Haciendo un diagrama de caja\n",
    "\n",
    "#Un diagrama de caja es un gráfico que indica la distribución de 1 o más variables. La caja captura la mediana del 50% de los datos..\\\n",
    "\n",
    "#La línea y los puntos indican posibles valores atípicos y no valores normales.\n",
    "\n",
    "plot = sns.set_style('Whitegrid')\n",
    "ax = sns.boxplot(x=df['glucose level'])\n",
    "plt.show()\n",
    "```"
   ]
  },
  {
   "attachments": {},
   "cell_type": "markdown",
   "id": "1e36ab48",
   "metadata": {},
   "source": [
    "**Obteniendo las propiedades**\n",
    "\n",
    "DB2 --->  syscat.tables                                 \n",
    "\n",
    "SQL Server --->  information=schema.tables   \n",
    " \n",
    "Oracle --->  all_tables or user_tables\n",
    "\n",
    "Ejemplo:"
   ]
  },
  {
   "cell_type": "markdown",
   "id": "aec4ad7e",
   "metadata": {},
   "source": [
    "```py\n",
    "\n",
    "#Obteniendo propiedades de tabla de DB2\n",
    "\n",
    "SELECT * FROM syscat.tables\n",
    "#(esto mostrará demasiadas tablas)\n",
    "\n",
    "SELECT tabschema, tabname, create_time\n",
    "FROM syscat.tables\n",
    "WHERE tabschema = 'ABC12345' #---> reemplaza con tu propio nombre de usuario de DB2\n",
    "\n",
    "#Obtener una lista de columnas en la base de datos\n",
    "\n",
    "SELECT * FROM syscat.columns\n",
    "WHERE tabname = 'Cats'\n",
    "\n",
    "#Para obtener propiedades de columna específica:\n",
    "\n",
    "%sql SELECT DISTINCT(name), coltype, length\n",
    "    FROM sysibm.syscolumns\n",
    "    WHERE tbname = 'Cats'\n",
    "    \n",
    "%sql SELECT DISTINCT(name), coltype, length\n",
    "    FROM sysibm.syscolumns \n",
    "    WHERE tbname = 'Miami_crime_data'\n",
    "\n",
    "```"
   ]
  },
  {
   "cell_type": "markdown",
   "id": "2dd12f5c",
   "metadata": {},
   "source": [
    "Fuente:\n",
    "\n",
    "https://www.freecodecamp.org/news/python-sql-how-to-use-sql-databases-with-python/#:~:text=Perhaps%20you%20work%20in%20data%20engineering%20and%20you,be%20able%20to%20communicate%20between%20different%20data%20sources."
   ]
  }
 ],
 "metadata": {
  "kernelspec": {
   "display_name": "Python 3 (ipykernel)",
   "language": "python",
   "name": "python3"
  },
  "language_info": {
   "codemirror_mode": {
    "name": "ipython",
    "version": 3
   },
   "file_extension": ".py",
   "mimetype": "text/x-python",
   "name": "python",
   "nbconvert_exporter": "python",
   "pygments_lexer": "ipython3",
   "version": "3.9.7"
  }
 },
 "nbformat": 4,
 "nbformat_minor": 5
}
