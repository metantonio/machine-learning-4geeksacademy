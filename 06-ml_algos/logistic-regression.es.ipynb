{
 "cells": [
  {
   "cell_type": "markdown",
   "id": "4befd825",
   "metadata": {},
   "source": [
    "# Regresión logística\n",
    "\n",
    "La regresión logística es un algoritmo de clasificación lineal. La clasificación es un problema en el que la tarea es asignar una categoría/clase a una nueva instancia que aprende las propiedades de cada clase a partir de los datos etiquetados existentes, llamado conjunto de entrenamiento. Ejemplos de problemas de clasificación pueden ser la clasificación de correos electrónicos como spam y no spam, observar la altura, el peso y otros atributos para clasificar a una persona como apta o no apta, etc.\n",
    "\n",
    "En estadística, el modelo logístico (o modelo logit) se utiliza para modelar la probabilidad de que exista una determinada clase o evento, como pasa/falla, gana/pierde, vivo/muerto o sano/enfermo.\n",
    "\n",
    "**¿Por qué debemos aprender Regresión Logística?**\n",
    "\n",
    "- Es el primer algoritmo de aprendizaje supervisado que les viene a la mente a los profesionales de la ciencia de datos para crear un modelo de referencia sólido para verificar la mejora.\n",
    "\n",
    "- Es un algoritmo fundamental, poderoso y fácilmente implementable. También es un modelo muy intuitivo e interpretable ya que los resultados finales son coeficientes que representan la relación entre la variable de respuesta y las características.\n",
    "\n",
    "**¿La regresión logística es un regresor o un clasificador?**\n",
    "\n",
    "La regresión logística generalmente se usa como clasificador porque predice clases discretas.\n",
    "Habiendo dicho eso, técnicamente genera un valor continuo asociado con cada predicción, al producir un puntaje de probabilidad junto con su predicción de clasificación.\n",
    "\n",
    "Entonces vemos que en realidad es un algoritmo de regresión que puede resolver problemas de clasificación."
   ]
  },
  {
   "cell_type": "markdown",
   "id": "7c6744d4",
   "metadata": {},
   "source": [
    "## ¿Qué parámetros se pueden ajustar en los modelos de Regresión logística?\n",
    "\n",
    "Hay varios hiperparámetros que se pueden optimizar en Regresión logística. Para ver todos los disponibles y sus posibles valores, haz clic en: https://scikit-learn.org/stable/modules/generated/sklearn.linear_model.LogisticRegression.html\n",
    "\n",
    "Sin embargo, aquí le mostraremos los principales hiperparámetros que podemos sintonizar en la regresión logística.\n",
    "\n",
    "**Solver** es el algoritmo a utilizar en el problema de optimización. Las opciones son {'newton-cg', 'lbfgs', 'liblinear', 'sag', 'saga'}, y el valor predeterminado es 'lbfgs'.\n",
    "\n",
    "- *lbfgs* funciona relativamente bien en comparación con otros métodos y ahorra mucha memoria, sin embargo, a veces puede tener problemas con la convergencia.\n",
    "\n",
    "- *sag* más rápido que otros solucionadores para grandes conjuntos de datos, cuando tanto la cantidad de muestras como la cantidad de características son grandes.\n",
    "\n",
    "- *saga* es el solucionador elegido para la regresión logística multinomial dispersa y también es adecuado para conjuntos de datos muy grandes.\n",
    "\n",
    "- *newton-cg* computacionalmente caro debido a la Hessian Matrix.\n",
    "\n",
    "- *liblinear* recomendado cuando tiene un conjunto de datos de gran dimensión, resolviendo problemas de clasificación a gran escala.\n",
    "\n",
    "> Nota: la convergencia rápida 'sag' y 'saga' solo está garantizada en características con aproximadamente la misma escala. Puede preprocesar los datos con un escalador de sklearn.preprocessing.\n",
    "\n",
    "**Penalización (o regularización)** pretende reducir el error de generalización del modelo y pretende desincentivar y regular el sobreajuste. La técnica desalienta el aprendizaje de un modelo más complejo, para evitar el riesgo de sobreajuste. Las opciones son: {'l1', 'l2', 'elasticnet', 'none'}, y el valor predeterminado es 'l2'.\n",
    "\n",
    "> Nota: no todos los solucionadores admiten todos los términos de regularización.\n",
    "\n",
    "**C (o fuerza de regularización)** debe ser un flotante positivo. La fuerza de regularización trabaja con la penalización para regular el sobreajuste. Los valores más pequeños especifican una regularización más fuerte y un valor alto le dice al modelo que otorgue mayor peso a los datos de entrenamiento.   \n",
    "\n",
    "La regresión logística ofrece otros parámetros como:\n",
    "\n",
    "- class_weight.\n",
    "\n",
    "- dualbool (para conjuntos de datos dispersos cuando n_samples > n_features).\n",
    "\n",
    "- max_iter (puede mejorar la convergencia con iteraciones más altas, y otros. Sin embargo, estos proporcionan menos impacto)."
   ]
  },
  {
   "cell_type": "markdown",
   "id": "a45109a1",
   "metadata": {},
   "source": [
    "## Uso de regresión logística en la predicción de supervivencia del Titanic"
   ]
  },
  {
   "cell_type": "markdown",
   "id": "d42c0bce",
   "metadata": {},
   "source": [
    "En el conjunto de datos del Titanic tenemos más de una característica, y con la regresión logística predecimos si sobrevivirán o no. Si el valor que predice el modelo fuera 0.85, eso significaría que la persona es 85% sobreviviente y 15% no sobreviviente.\n",
    "\n",
    "Imaginemos que el conjunto de datos titánico solo tiene una característica (Sexo) y nos gustaría predecir si el pasajero sobrevive o no, lo que estamos tratando de calcular es básicamente:\n",
    "\n",
    "$P(survive|sex=male)$\n",
    "\n",
    "$P(survive|sex=female)$\n",
    "\n",
    "Cuando la probabilidad es mayor o igual a 0.5, el valor binario es 1, y cuando la probabilidad es menor a 0.5, el valor binario es 0. Entonces, la persona que acabamos de mencionar se clasificaría como 1, lo que significa que él o ella sobrevivió.\n",
    "\n",
    "### La curva de regresión logística"
   ]
  },
  {
   "cell_type": "markdown",
   "id": "2b620c91",
   "metadata": {},
   "source": [
    "![logistic_regression_curve](../assets/logistic_regression_curve.jpg)"
   ]
  },
  {
   "cell_type": "markdown",
   "id": "3284fe19",
   "metadata": {},
   "source": [
    "La función logística, también llamada función sigmoidea, es una curva en forma de S que puede tomar cualquier número de valor real y asignarlo a un valor entre 0 y 1, pero nunca exactamente en esos límites.\n",
    "\n",
    "La regresión logística utiliza la estimación de máxima verosimilitud, que calcula la probabilidad de que una persona sea sobreviviente del Titanic, y luego otra, y luego otra... Después de realizar todos los cálculos, el modelo multiplica todas esas probabilidades y ajusta la línea en forma de S a los datos. Sigue calculando, hasta que encuentra la mejor línea en forma de S.\n",
    "\n",
    "### La ecuación de regresión logística\n",
    "\n",
    "Los valores de entrada (x) se combinan linealmente usando pesos o valores de coeficiente (conocidos como la letra mayúscula griega Beta) para predecir un valor de salida (y). Una diferencia clave de la regresión lineal es que el valor de salida que se modela es un valor binario (0 o 1) en lugar de un valor numérico.\n",
    "\n",
    "A continuación se muestra un ejemplo de ecuación de regresión logística:\n",
    "\n",
    "$y = e^(b0 + b1*x) / (1 + e^(b0 + b1*x))$\n",
    "\n",
    "Donde y es la salida pronosticada, b0 es el término de sesgo o intersección y b1 es el coeficiente para el valor de entrada único (x). Cada columna en sus datos de entrada tiene un coeficiente b asociado (un valor real constante) que debe aprenderse de sus datos de entrenamiento. Esto se hace utilizando la estimación de máxima verosimilitud. La intuición de máxima verosimilitud para la regresión logística es que un procedimiento de búsqueda, busca valores para los coeficientes (valores Beta) que minimicen el error en las probabilidades predichas por el modelo a las de los datos.\n",
    "\n",
    "The actual representation of the model that you would store in memory or in a file are the coefficients in the equation (the beta value or b’s).\n",
    "\n",
    "Para obtener las probabilidades con Python puedes usar:\n",
    "\n",
    "```py\n",
    "\n",
    "y_pred = model.predict_proba(X_test)\n",
    "roc_auc_score(y_test, y_pred)\n",
    "\n",
    "```\n",
    "\n",
    "Esto te dará un array de 'probabilidad de estar en cada clase' dada a cada observación, pero también puedes obtener la probabilidad de estar en la clase '1':\n",
    "\n",
    "```py\n",
    "\n",
    "# Puntaje\n",
    "\n",
    "y_pred = model.predict_proba(X_test)[:, 1]\n",
    "roc_auc_score(y_test, y_pred)\n",
    "\n",
    "```\n",
    "\n",
    "### Modelado Titanic"
   ]
  },
  {
   "cell_type": "code",
   "execution_count": 1,
   "id": "72bc9351",
   "metadata": {},
   "outputs": [],
   "source": [
    "# Importar bibliotecas\n",
    "\n",
    "import pandas as pd\n",
    "import numpy as np\n",
    "import seaborn as sns\n",
    "import matplotlib.pyplot as plt"
   ]
  },
  {
   "cell_type": "markdown",
   "id": "ce8ef169",
   "metadata": {},
   "source": [
    "**Cargando el marco de datos final**\n",
    "\n",
    "Para comenzar a modelar, nos centraremos en los datos de nuestro tren y nos olvidaremos temporalmente del conjunto de datos donde necesitamos hacer predicciones.\n",
    "\n",
    "Comencemos cargando nuestros datos limpios del tren titánico y asígnele el nombre final_df."
   ]
  },
  {
   "cell_type": "code",
   "execution_count": 2,
   "id": "8cc5a262",
   "metadata": {},
   "outputs": [],
   "source": [
    "# Cargando conjunto de datos de clean train\n",
    "\n",
    "final_df = pd.read_csv('https://raw.githubusercontent.com/4GeeksAcademy/machine-learning-content/master/assets/clean_titanic_train.csv')"
   ]
  },
  {
   "cell_type": "code",
   "execution_count": 3,
   "id": "61fc24cd",
   "metadata": {},
   "outputs": [
    {
     "data": {
      "text/html": [
       "<div>\n",
       "<style scoped>\n",
       "    .dataframe tbody tr th:only-of-type {\n",
       "        vertical-align: middle;\n",
       "    }\n",
       "\n",
       "    .dataframe tbody tr th {\n",
       "        vertical-align: top;\n",
       "    }\n",
       "\n",
       "    .dataframe thead th {\n",
       "        text-align: right;\n",
       "    }\n",
       "</style>\n",
       "<table border=\"1\" class=\"dataframe\">\n",
       "  <thead>\n",
       "    <tr style=\"text-align: right;\">\n",
       "      <th></th>\n",
       "      <th>Unnamed: 0</th>\n",
       "      <th>Embarked_C</th>\n",
       "      <th>Embarked_Q</th>\n",
       "      <th>Embarked_S</th>\n",
       "      <th>Female</th>\n",
       "      <th>Male</th>\n",
       "      <th>Survived</th>\n",
       "      <th>Pclass</th>\n",
       "      <th>Age</th>\n",
       "      <th>SibSp</th>\n",
       "      <th>Parch</th>\n",
       "      <th>Fare</th>\n",
       "      <th>fam_mbrs</th>\n",
       "    </tr>\n",
       "  </thead>\n",
       "  <tbody>\n",
       "    <tr>\n",
       "      <th>0</th>\n",
       "      <td>0</td>\n",
       "      <td>0.0</td>\n",
       "      <td>0.0</td>\n",
       "      <td>1.0</td>\n",
       "      <td>0.0</td>\n",
       "      <td>1.0</td>\n",
       "      <td>0.0</td>\n",
       "      <td>3.0</td>\n",
       "      <td>0.271174</td>\n",
       "      <td>1.0</td>\n",
       "      <td>0.0</td>\n",
       "      <td>0.027567</td>\n",
       "      <td>1.0</td>\n",
       "    </tr>\n",
       "    <tr>\n",
       "      <th>1</th>\n",
       "      <td>1</td>\n",
       "      <td>1.0</td>\n",
       "      <td>0.0</td>\n",
       "      <td>0.0</td>\n",
       "      <td>1.0</td>\n",
       "      <td>0.0</td>\n",
       "      <td>1.0</td>\n",
       "      <td>1.0</td>\n",
       "      <td>0.472229</td>\n",
       "      <td>1.0</td>\n",
       "      <td>0.0</td>\n",
       "      <td>0.271039</td>\n",
       "      <td>1.0</td>\n",
       "    </tr>\n",
       "    <tr>\n",
       "      <th>2</th>\n",
       "      <td>2</td>\n",
       "      <td>0.0</td>\n",
       "      <td>0.0</td>\n",
       "      <td>1.0</td>\n",
       "      <td>1.0</td>\n",
       "      <td>0.0</td>\n",
       "      <td>1.0</td>\n",
       "      <td>3.0</td>\n",
       "      <td>0.321438</td>\n",
       "      <td>0.0</td>\n",
       "      <td>0.0</td>\n",
       "      <td>0.030133</td>\n",
       "      <td>0.0</td>\n",
       "    </tr>\n",
       "    <tr>\n",
       "      <th>3</th>\n",
       "      <td>3</td>\n",
       "      <td>0.0</td>\n",
       "      <td>0.0</td>\n",
       "      <td>1.0</td>\n",
       "      <td>1.0</td>\n",
       "      <td>0.0</td>\n",
       "      <td>1.0</td>\n",
       "      <td>1.0</td>\n",
       "      <td>0.434531</td>\n",
       "      <td>1.0</td>\n",
       "      <td>0.0</td>\n",
       "      <td>0.201901</td>\n",
       "      <td>1.0</td>\n",
       "    </tr>\n",
       "    <tr>\n",
       "      <th>4</th>\n",
       "      <td>4</td>\n",
       "      <td>0.0</td>\n",
       "      <td>0.0</td>\n",
       "      <td>1.0</td>\n",
       "      <td>0.0</td>\n",
       "      <td>1.0</td>\n",
       "      <td>0.0</td>\n",
       "      <td>3.0</td>\n",
       "      <td>0.434531</td>\n",
       "      <td>0.0</td>\n",
       "      <td>0.0</td>\n",
       "      <td>0.030608</td>\n",
       "      <td>0.0</td>\n",
       "    </tr>\n",
       "    <tr>\n",
       "      <th>5</th>\n",
       "      <td>5</td>\n",
       "      <td>0.0</td>\n",
       "      <td>1.0</td>\n",
       "      <td>0.0</td>\n",
       "      <td>0.0</td>\n",
       "      <td>1.0</td>\n",
       "      <td>0.0</td>\n",
       "      <td>3.0</td>\n",
       "      <td>0.346569</td>\n",
       "      <td>0.0</td>\n",
       "      <td>0.0</td>\n",
       "      <td>0.032161</td>\n",
       "      <td>0.0</td>\n",
       "    </tr>\n",
       "    <tr>\n",
       "      <th>6</th>\n",
       "      <td>6</td>\n",
       "      <td>0.0</td>\n",
       "      <td>0.0</td>\n",
       "      <td>1.0</td>\n",
       "      <td>0.0</td>\n",
       "      <td>1.0</td>\n",
       "      <td>0.0</td>\n",
       "      <td>1.0</td>\n",
       "      <td>0.673285</td>\n",
       "      <td>0.0</td>\n",
       "      <td>0.0</td>\n",
       "      <td>0.197196</td>\n",
       "      <td>0.0</td>\n",
       "    </tr>\n",
       "    <tr>\n",
       "      <th>7</th>\n",
       "      <td>7</td>\n",
       "      <td>0.0</td>\n",
       "      <td>0.0</td>\n",
       "      <td>1.0</td>\n",
       "      <td>0.0</td>\n",
       "      <td>1.0</td>\n",
       "      <td>0.0</td>\n",
       "      <td>3.0</td>\n",
       "      <td>0.019854</td>\n",
       "      <td>3.0</td>\n",
       "      <td>1.0</td>\n",
       "      <td>0.080133</td>\n",
       "      <td>4.0</td>\n",
       "    </tr>\n",
       "    <tr>\n",
       "      <th>8</th>\n",
       "      <td>8</td>\n",
       "      <td>0.0</td>\n",
       "      <td>0.0</td>\n",
       "      <td>1.0</td>\n",
       "      <td>1.0</td>\n",
       "      <td>0.0</td>\n",
       "      <td>1.0</td>\n",
       "      <td>3.0</td>\n",
       "      <td>0.334004</td>\n",
       "      <td>0.0</td>\n",
       "      <td>2.0</td>\n",
       "      <td>0.042332</td>\n",
       "      <td>2.0</td>\n",
       "    </tr>\n",
       "    <tr>\n",
       "      <th>9</th>\n",
       "      <td>9</td>\n",
       "      <td>1.0</td>\n",
       "      <td>0.0</td>\n",
       "      <td>0.0</td>\n",
       "      <td>1.0</td>\n",
       "      <td>0.0</td>\n",
       "      <td>1.0</td>\n",
       "      <td>2.0</td>\n",
       "      <td>0.170646</td>\n",
       "      <td>1.0</td>\n",
       "      <td>0.0</td>\n",
       "      <td>0.114338</td>\n",
       "      <td>1.0</td>\n",
       "    </tr>\n",
       "  </tbody>\n",
       "</table>\n",
       "</div>"
      ],
      "text/plain": [
       "   Unnamed: 0  Embarked_C  Embarked_Q  Embarked_S  Female  Male  Survived  \\\n",
       "0           0         0.0         0.0         1.0     0.0   1.0       0.0   \n",
       "1           1         1.0         0.0         0.0     1.0   0.0       1.0   \n",
       "2           2         0.0         0.0         1.0     1.0   0.0       1.0   \n",
       "3           3         0.0         0.0         1.0     1.0   0.0       1.0   \n",
       "4           4         0.0         0.0         1.0     0.0   1.0       0.0   \n",
       "5           5         0.0         1.0         0.0     0.0   1.0       0.0   \n",
       "6           6         0.0         0.0         1.0     0.0   1.0       0.0   \n",
       "7           7         0.0         0.0         1.0     0.0   1.0       0.0   \n",
       "8           8         0.0         0.0         1.0     1.0   0.0       1.0   \n",
       "9           9         1.0         0.0         0.0     1.0   0.0       1.0   \n",
       "\n",
       "   Pclass       Age  SibSp  Parch      Fare  fam_mbrs  \n",
       "0     3.0  0.271174    1.0    0.0  0.027567       1.0  \n",
       "1     1.0  0.472229    1.0    0.0  0.271039       1.0  \n",
       "2     3.0  0.321438    0.0    0.0  0.030133       0.0  \n",
       "3     1.0  0.434531    1.0    0.0  0.201901       1.0  \n",
       "4     3.0  0.434531    0.0    0.0  0.030608       0.0  \n",
       "5     3.0  0.346569    0.0    0.0  0.032161       0.0  \n",
       "6     1.0  0.673285    0.0    0.0  0.197196       0.0  \n",
       "7     3.0  0.019854    3.0    1.0  0.080133       4.0  \n",
       "8     3.0  0.334004    0.0    2.0  0.042332       2.0  \n",
       "9     2.0  0.170646    1.0    0.0  0.114338       1.0  "
      ]
     },
     "execution_count": 3,
     "metadata": {},
     "output_type": "execute_result"
    }
   ],
   "source": [
    "# Echemos un vistazo a nuestras primeras 10 filas para verificar que todos los datos sean numéricos.\n",
    "\n",
    "final_df.head(10)"
   ]
  },
  {
   "cell_type": "markdown",
   "id": "ea1adc7d",
   "metadata": {},
   "source": [
    "**Características separadas y objetivo como X e y**"
   ]
  },
  {
   "cell_type": "code",
   "execution_count": 4,
   "id": "f6a524ab",
   "metadata": {},
   "outputs": [],
   "source": [
    "X = final_df.drop(['Survived','Unnamed: 0'], axis=1)\n",
    "y = final_df['Survived']"
   ]
  },
  {
   "cell_type": "markdown",
   "id": "7c767616",
   "metadata": {},
   "source": [
    "**Marco de datos dividido en conjunto de entrenamiento y conjunto de prueba**"
   ]
  },
  {
   "cell_type": "code",
   "execution_count": 5,
   "id": "ae54636d",
   "metadata": {},
   "outputs": [],
   "source": [
    "from sklearn.model_selection import train_test_split\n",
    "\n",
    "X_train, X_test, y_train, y_test = train_test_split(X, y, test_size=0.2, random_state=42)"
   ]
  },
  {
   "cell_type": "code",
   "execution_count": 6,
   "id": "80afe320",
   "metadata": {},
   "outputs": [],
   "source": [
    "from sklearn.linear_model import LogisticRegression\n",
    "\n",
    "# Crear instancias de regresión logística\n",
    "\n",
    "model = LogisticRegression()"
   ]
  },
  {
   "cell_type": "code",
   "execution_count": 7,
   "id": "275f668c",
   "metadata": {},
   "outputs": [
    {
     "data": {
      "text/html": [
       "<style>#sk-container-id-1 {color: black;background-color: white;}#sk-container-id-1 pre{padding: 0;}#sk-container-id-1 div.sk-toggleable {background-color: white;}#sk-container-id-1 label.sk-toggleable__label {cursor: pointer;display: block;width: 100%;margin-bottom: 0;padding: 0.3em;box-sizing: border-box;text-align: center;}#sk-container-id-1 label.sk-toggleable__label-arrow:before {content: \"▸\";float: left;margin-right: 0.25em;color: #696969;}#sk-container-id-1 label.sk-toggleable__label-arrow:hover:before {color: black;}#sk-container-id-1 div.sk-estimator:hover label.sk-toggleable__label-arrow:before {color: black;}#sk-container-id-1 div.sk-toggleable__content {max-height: 0;max-width: 0;overflow: hidden;text-align: left;background-color: #f0f8ff;}#sk-container-id-1 div.sk-toggleable__content pre {margin: 0.2em;color: black;border-radius: 0.25em;background-color: #f0f8ff;}#sk-container-id-1 input.sk-toggleable__control:checked~div.sk-toggleable__content {max-height: 200px;max-width: 100%;overflow: auto;}#sk-container-id-1 input.sk-toggleable__control:checked~label.sk-toggleable__label-arrow:before {content: \"▾\";}#sk-container-id-1 div.sk-estimator input.sk-toggleable__control:checked~label.sk-toggleable__label {background-color: #d4ebff;}#sk-container-id-1 div.sk-label input.sk-toggleable__control:checked~label.sk-toggleable__label {background-color: #d4ebff;}#sk-container-id-1 input.sk-hidden--visually {border: 0;clip: rect(1px 1px 1px 1px);clip: rect(1px, 1px, 1px, 1px);height: 1px;margin: -1px;overflow: hidden;padding: 0;position: absolute;width: 1px;}#sk-container-id-1 div.sk-estimator {font-family: monospace;background-color: #f0f8ff;border: 1px dotted black;border-radius: 0.25em;box-sizing: border-box;margin-bottom: 0.5em;}#sk-container-id-1 div.sk-estimator:hover {background-color: #d4ebff;}#sk-container-id-1 div.sk-parallel-item::after {content: \"\";width: 100%;border-bottom: 1px solid gray;flex-grow: 1;}#sk-container-id-1 div.sk-label:hover label.sk-toggleable__label {background-color: #d4ebff;}#sk-container-id-1 div.sk-serial::before {content: \"\";position: absolute;border-left: 1px solid gray;box-sizing: border-box;top: 0;bottom: 0;left: 50%;z-index: 0;}#sk-container-id-1 div.sk-serial {display: flex;flex-direction: column;align-items: center;background-color: white;padding-right: 0.2em;padding-left: 0.2em;position: relative;}#sk-container-id-1 div.sk-item {position: relative;z-index: 1;}#sk-container-id-1 div.sk-parallel {display: flex;align-items: stretch;justify-content: center;background-color: white;position: relative;}#sk-container-id-1 div.sk-item::before, #sk-container-id-1 div.sk-parallel-item::before {content: \"\";position: absolute;border-left: 1px solid gray;box-sizing: border-box;top: 0;bottom: 0;left: 50%;z-index: -1;}#sk-container-id-1 div.sk-parallel-item {display: flex;flex-direction: column;z-index: 1;position: relative;background-color: white;}#sk-container-id-1 div.sk-parallel-item:first-child::after {align-self: flex-end;width: 50%;}#sk-container-id-1 div.sk-parallel-item:last-child::after {align-self: flex-start;width: 50%;}#sk-container-id-1 div.sk-parallel-item:only-child::after {width: 0;}#sk-container-id-1 div.sk-dashed-wrapped {border: 1px dashed gray;margin: 0 0.4em 0.5em 0.4em;box-sizing: border-box;padding-bottom: 0.4em;background-color: white;}#sk-container-id-1 div.sk-label label {font-family: monospace;font-weight: bold;display: inline-block;line-height: 1.2em;}#sk-container-id-1 div.sk-label-container {text-align: center;}#sk-container-id-1 div.sk-container {/* jupyter's `normalize.less` sets `[hidden] { display: none; }` but bootstrap.min.css set `[hidden] { display: none !important; }` so we also need the `!important` here to be able to override the default hidden behavior on the sphinx rendered scikit-learn.org. See: https://github.com/scikit-learn/scikit-learn/issues/21755 */display: inline-block !important;position: relative;}#sk-container-id-1 div.sk-text-repr-fallback {display: none;}</style><div id=\"sk-container-id-1\" class=\"sk-top-container\"><div class=\"sk-text-repr-fallback\"><pre>LogisticRegression()</pre><b>In a Jupyter environment, please rerun this cell to show the HTML representation or trust the notebook. <br />On GitHub, the HTML representation is unable to render, please try loading this page with nbviewer.org.</b></div><div class=\"sk-container\" hidden><div class=\"sk-item\"><div class=\"sk-estimator sk-toggleable\"><input class=\"sk-toggleable__control sk-hidden--visually\" id=\"sk-estimator-id-1\" type=\"checkbox\" checked><label for=\"sk-estimator-id-1\" class=\"sk-toggleable__label sk-toggleable__label-arrow\">LogisticRegression</label><div class=\"sk-toggleable__content\"><pre>LogisticRegression()</pre></div></div></div></div></div>"
      ],
      "text/plain": [
       "LogisticRegression()"
      ]
     },
     "execution_count": 7,
     "metadata": {},
     "output_type": "execute_result"
    }
   ],
   "source": [
    "# Ajustar los datos\n",
    "\n",
    "model.fit(X_train, y_train)"
   ]
  },
  {
   "cell_type": "code",
   "execution_count": 35,
   "id": "2d331b6c",
   "metadata": {},
   "outputs": [
    {
     "data": {
      "text/plain": [
       "array([0., 1., 1., 0., 1., 0., 0., 0., 1., 1., 1., 1., 0., 0., 0., 0., 0.,\n",
       "       0., 0., 0., 0., 0., 0., 1., 0., 1., 0., 1., 0., 0., 0., 1., 0., 1.,\n",
       "       0., 1., 1., 0., 0., 0., 0., 1., 0., 1., 0., 1., 1., 1., 0., 1., 1.,\n",
       "       1., 0., 1., 1., 1., 1., 0., 0., 1., 0., 1., 1., 0., 0., 0., 0., 0.,\n",
       "       0., 1., 0., 1., 1., 1., 0., 0., 1., 0., 0., 0., 0., 0., 1., 1., 0.,\n",
       "       0., 0., 0., 0., 0., 0., 1., 1., 1., 0., 0., 0., 0., 0., 0., 1., 0.,\n",
       "       1., 0., 0., 0., 1., 1., 0., 0., 0., 0., 0., 1., 0., 0., 0., 0., 0.,\n",
       "       0., 1., 1., 0., 0., 1., 0., 0., 1., 1., 0., 0., 1., 0., 0., 1., 0.,\n",
       "       1., 1., 1., 1., 0., 0., 1., 0., 1., 1., 0., 1., 0., 1., 0., 1., 1.,\n",
       "       0., 0., 1., 1., 1., 0., 1., 0., 1., 0., 0., 0., 0., 1., 0., 0., 1.,\n",
       "       1., 1., 1., 0., 1., 0., 1., 1.])"
      ]
     },
     "execution_count": 35,
     "metadata": {},
     "output_type": "execute_result"
    }
   ],
   "source": [
    "# Hacer predicciones\n",
    "\n",
    "y_pred = model.predict(X_test)\n",
    "y_pred"
   ]
  },
  {
   "cell_type": "code",
   "execution_count": 37,
   "id": "e7153045",
   "metadata": {},
   "outputs": [
    {
     "data": {
      "text/plain": [
       "0.8146067415730337"
      ]
     },
     "execution_count": 37,
     "metadata": {},
     "output_type": "execute_result"
    }
   ],
   "source": [
    "# Comprobar la puntuación de precisión\n",
    "\n",
    "from sklearn.metrics import accuracy_score, confusion_matrix\n",
    "from sklearn.metrics import roc_auc_score\n",
    "\n",
    "accuracy_score(y_test, y_pred)"
   ]
  },
  {
   "cell_type": "code",
   "execution_count": 39,
   "id": "2072d9c4",
   "metadata": {},
   "outputs": [
    {
     "data": {
      "text/plain": [
       "array([[87, 16],\n",
       "       [17, 58]])"
      ]
     },
     "execution_count": 39,
     "metadata": {},
     "output_type": "execute_result"
    }
   ],
   "source": [
    "# Matriz de confusión\n",
    "\n",
    "titanic_cm = confusion_matrix(y_pred, y_test)\n",
    "titanic_cm"
   ]
  },
  {
   "cell_type": "markdown",
   "id": "ff2b1602",
   "metadata": {},
   "source": [
    "Si quieres puedes poner tu matriz de confusión en un gráfico más bonito"
   ]
  },
  {
   "cell_type": "code",
   "execution_count": 41,
   "id": "0b070aed",
   "metadata": {},
   "outputs": [
    {
     "data": {
      "image/png": "[encoded data removed]",
      "text/plain": [
       "<Figure size 360x360 with 1 Axes>"
      ]
     },
     "metadata": {},
     "output_type": "display_data"
    }
   ],
   "source": [
    "# Convertir el ndarray en un marco de datos de pandas\n",
    "cm_df = pd.DataFrame(titanic_cm)\n",
    "# Set the size of the figure\n",
    "plt.figure(figsize = (5,5))\n",
    "sns.heatmap(cm_df, \n",
    "           annot=True, annot_kws={\"size\": 25},\n",
    "           fmt=\"d\",         # Decimals format\n",
    "           xticklabels=False, \n",
    "           yticklabels=False,\n",
    "           cmap=\"viridis\", \n",
    "           cbar=False)\n",
    "plt.show()"
   ]
  },
  {
   "cell_type": "markdown",
   "id": "28fd0338",
   "metadata": {},
   "source": [
    "Observaciones: 16 + 17 = 33 predicción incorrecta. ¿Podemos hacerlo mejor?"
   ]
  },
  {
   "cell_type": "markdown",
   "id": "45688802",
   "metadata": {},
   "source": [
    "Usemos GridSearch para ver cuáles serían los mejores hiperparámetros para nuestro modelo de regresión logística.\n",
    "\n",
    "El siguiente código demuestra la búsqueda en cuadrícula de los hiperparámetros clave para LogisticRegression en un conjunto de datos de clasificación binaria, en este caso, nuestro conjunto de datos Titanic. "
   ]
  },
  {
   "cell_type": "code",
   "execution_count": 22,
   "id": "07004e36",
   "metadata": {},
   "outputs": [
    {
     "name": "stdout",
     "output_type": "stream",
     "text": [
      "Best: 0.798102 using {'C': 0.1, 'penalty': 'l2', 'solver': 'newton-cg'}\n",
      "0.793216 (0.032933) with: {'C': 100, 'penalty': 'l2', 'solver': 'newton-cg'}\n",
      "0.793216 (0.032933) with: {'C': 100, 'penalty': 'l2', 'solver': 'lbfgs'}\n",
      "0.792833 (0.031946) with: {'C': 100, 'penalty': 'l2', 'solver': 'liblinear'}\n",
      "0.793212 (0.032824) with: {'C': 10, 'penalty': 'l2', 'solver': 'newton-cg'}\n",
      "0.793212 (0.032824) with: {'C': 10, 'penalty': 'l2', 'solver': 'lbfgs'}\n",
      "0.793969 (0.031699) with: {'C': 10, 'penalty': 'l2', 'solver': 'liblinear'}\n",
      "0.796582 (0.034081) with: {'C': 1.0, 'penalty': 'l2', 'solver': 'newton-cg'}\n",
      "0.796582 (0.034081) with: {'C': 1.0, 'penalty': 'l2', 'solver': 'lbfgs'}\n",
      "0.796229 (0.036167) with: {'C': 1.0, 'penalty': 'l2', 'solver': 'liblinear'}\n",
      "0.798102 (0.037820) with: {'C': 0.1, 'penalty': 'l2', 'solver': 'newton-cg'}\n",
      "0.798102 (0.037820) with: {'C': 0.1, 'penalty': 'l2', 'solver': 'lbfgs'}\n",
      "0.797706 (0.040030) with: {'C': 0.1, 'penalty': 'l2', 'solver': 'liblinear'}\n",
      "0.783801 (0.034749) with: {'C': 0.01, 'penalty': 'l2', 'solver': 'newton-cg'}\n",
      "0.783801 (0.034749) with: {'C': 0.01, 'penalty': 'l2', 'solver': 'lbfgs'}\n",
      "0.783048 (0.033317) with: {'C': 0.01, 'penalty': 'l2', 'solver': 'liblinear'}\n"
     ]
    }
   ],
   "source": [
    "from sklearn.model_selection import RepeatedStratifiedKFold\n",
    "from sklearn.model_selection import GridSearchCV\n",
    "from sklearn.linear_model import LogisticRegression\n",
    "\n",
    "# Definir modelos y parámetros\n",
    "\n",
    "model = LogisticRegression()\n",
    "solvers = ['newton-cg', 'lbfgs', 'liblinear']\n",
    "penalty = ['l2']\n",
    "c_values = [100, 10, 1.0, 0.1, 0.01]\n",
    "\n",
    "# Definir búsqueda de cuadrícula\n",
    "\n",
    "grid = dict(solver=solvers,penalty=penalty,C=c_values)\n",
    "cv = RepeatedStratifiedKFold(n_splits=10, n_repeats=3, random_state=1)\n",
    "grid_search = GridSearchCV(estimator=model, param_grid=grid, n_jobs=-1, cv=cv, scoring='accuracy',error_score=0)\n",
    "grid_result = grid_search.fit(X, y)\n",
    "\n",
    "# Resumir resultados\n",
    "\n",
    "print(\"Best: %f using %s\" % (grid_result.best_score_, grid_result.best_params_))\n",
    "means = grid_result.cv_results_['mean_test_score']\n",
    "stds = grid_result.cv_results_['std_test_score']\n",
    "params = grid_result.cv_results_['params']\n",
    "for mean, stdev, param in zip(means, stds, params):\n",
    "    print(\"%f (%f) with: %r\" % (mean, stdev, param))"
   ]
  },
  {
   "cell_type": "markdown",
   "id": "cc072cbe",
   "metadata": {},
   "source": [
    "Solver newton-cg solo admite penalizaciones 'l2' o 'ninguna', es por eso que solo incluimos 'l2'.\n",
    "\n",
    "Observaciones: De hecho, obtuvimos una mejor puntuación primero. Confirmemos esto obteniendo de nuevo la matriz de confusión."
   ]
  },
  {
   "cell_type": "code",
   "execution_count": 42,
   "id": "12be01d9",
   "metadata": {},
   "outputs": [],
   "source": [
    "# Parámetros de hipertonía\n",
    "\n",
    "optimized_model = LogisticRegression(C= 0.1, penalty='l2', solver= 'newton-cg')\n"
   ]
  },
  {
   "cell_type": "code",
   "execution_count": 43,
   "id": "0c54d280",
   "metadata": {},
   "outputs": [
    {
     "data": {
      "text/html": [
       "<style>#sk-container-id-3 {color: black;background-color: white;}#sk-container-id-3 pre{padding: 0;}#sk-container-id-3 div.sk-toggleable {background-color: white;}#sk-container-id-3 label.sk-toggleable__label {cursor: pointer;display: block;width: 100%;margin-bottom: 0;padding: 0.3em;box-sizing: border-box;text-align: center;}#sk-container-id-3 label.sk-toggleable__label-arrow:before {content: \"▸\";float: left;margin-right: 0.25em;color: #696969;}#sk-container-id-3 label.sk-toggleable__label-arrow:hover:before {color: black;}#sk-container-id-3 div.sk-estimator:hover label.sk-toggleable__label-arrow:before {color: black;}#sk-container-id-3 div.sk-toggleable__content {max-height: 0;max-width: 0;overflow: hidden;text-align: left;background-color: #f0f8ff;}#sk-container-id-3 div.sk-toggleable__content pre {margin: 0.2em;color: black;border-radius: 0.25em;background-color: #f0f8ff;}#sk-container-id-3 input.sk-toggleable__control:checked~div.sk-toggleable__content {max-height: 200px;max-width: 100%;overflow: auto;}#sk-container-id-3 input.sk-toggleable__control:checked~label.sk-toggleable__label-arrow:before {content: \"▾\";}#sk-container-id-3 div.sk-estimator input.sk-toggleable__control:checked~label.sk-toggleable__label {background-color: #d4ebff;}#sk-container-id-3 div.sk-label input.sk-toggleable__control:checked~label.sk-toggleable__label {background-color: #d4ebff;}#sk-container-id-3 input.sk-hidden--visually {border: 0;clip: rect(1px 1px 1px 1px);clip: rect(1px, 1px, 1px, 1px);height: 1px;margin: -1px;overflow: hidden;padding: 0;position: absolute;width: 1px;}#sk-container-id-3 div.sk-estimator {font-family: monospace;background-color: #f0f8ff;border: 1px dotted black;border-radius: 0.25em;box-sizing: border-box;margin-bottom: 0.5em;}#sk-container-id-3 div.sk-estimator:hover {background-color: #d4ebff;}#sk-container-id-3 div.sk-parallel-item::after {content: \"\";width: 100%;border-bottom: 1px solid gray;flex-grow: 1;}#sk-container-id-3 div.sk-label:hover label.sk-toggleable__label {background-color: #d4ebff;}#sk-container-id-3 div.sk-serial::before {content: \"\";position: absolute;border-left: 1px solid gray;box-sizing: border-box;top: 0;bottom: 0;left: 50%;z-index: 0;}#sk-container-id-3 div.sk-serial {display: flex;flex-direction: column;align-items: center;background-color: white;padding-right: 0.2em;padding-left: 0.2em;position: relative;}#sk-container-id-3 div.sk-item {position: relative;z-index: 1;}#sk-container-id-3 div.sk-parallel {display: flex;align-items: stretch;justify-content: center;background-color: white;position: relative;}#sk-container-id-3 div.sk-item::before, #sk-container-id-3 div.sk-parallel-item::before {content: \"\";position: absolute;border-left: 1px solid gray;box-sizing: border-box;top: 0;bottom: 0;left: 50%;z-index: -1;}#sk-container-id-3 div.sk-parallel-item {display: flex;flex-direction: column;z-index: 1;position: relative;background-color: white;}#sk-container-id-3 div.sk-parallel-item:first-child::after {align-self: flex-end;width: 50%;}#sk-container-id-3 div.sk-parallel-item:last-child::after {align-self: flex-start;width: 50%;}#sk-container-id-3 div.sk-parallel-item:only-child::after {width: 0;}#sk-container-id-3 div.sk-dashed-wrapped {border: 1px dashed gray;margin: 0 0.4em 0.5em 0.4em;box-sizing: border-box;padding-bottom: 0.4em;background-color: white;}#sk-container-id-3 div.sk-label label {font-family: monospace;font-weight: bold;display: inline-block;line-height: 1.2em;}#sk-container-id-3 div.sk-label-container {text-align: center;}#sk-container-id-3 div.sk-container {/* jupyter's `normalize.less` sets `[hidden] { display: none; }` but bootstrap.min.css set `[hidden] { display: none !important; }` so we also need the `!important` here to be able to override the default hidden behavior on the sphinx rendered scikit-learn.org. See: https://github.com/scikit-learn/scikit-learn/issues/21755 */display: inline-block !important;position: relative;}#sk-container-id-3 div.sk-text-repr-fallback {display: none;}</style><div id=\"sk-container-id-3\" class=\"sk-top-container\"><div class=\"sk-text-repr-fallback\"><pre>LogisticRegression(C=0.1, solver=&#x27;newton-cg&#x27;)</pre><b>In a Jupyter environment, please rerun this cell to show the HTML representation or trust the notebook. <br />On GitHub, the HTML representation is unable to render, please try loading this page with nbviewer.org.</b></div><div class=\"sk-container\" hidden><div class=\"sk-item\"><div class=\"sk-estimator sk-toggleable\"><input class=\"sk-toggleable__control sk-hidden--visually\" id=\"sk-estimator-id-3\" type=\"checkbox\" checked><label for=\"sk-estimator-id-3\" class=\"sk-toggleable__label sk-toggleable__label-arrow\">LogisticRegression</label><div class=\"sk-toggleable__content\"><pre>LogisticRegression(C=0.1, solver=&#x27;newton-cg&#x27;)</pre></div></div></div></div></div>"
      ],
      "text/plain": [
       "LogisticRegression(C=0.1, solver='newton-cg')"
      ]
     },
     "execution_count": 43,
     "metadata": {},
     "output_type": "execute_result"
    }
   ],
   "source": [
    "# Ajustar los datos\n",
    "\n",
    "optimized_model.fit(X_train, y_train)"
   ]
  },
  {
   "cell_type": "code",
   "execution_count": 44,
   "id": "4e95e0c7",
   "metadata": {},
   "outputs": [
    {
     "data": {
      "text/plain": [
       "array([0., 1., 1., 0., 1., 0., 0., 0., 1., 1., 1., 1., 0., 0., 0., 0., 0.,\n",
       "       0., 0., 0., 0., 0., 0., 1., 0., 1., 0., 1., 0., 0., 0., 1., 0., 1.,\n",
       "       0., 1., 1., 0., 0., 0., 0., 1., 0., 1., 0., 1., 1., 1., 0., 1., 1.,\n",
       "       1., 0., 1., 1., 1., 1., 0., 0., 1., 0., 1., 1., 0., 0., 0., 0., 0.,\n",
       "       0., 1., 0., 1., 1., 1., 1., 0., 1., 0., 0., 0., 1., 0., 1., 1., 0.,\n",
       "       0., 0., 0., 0., 0., 0., 1., 1., 1., 0., 0., 0., 0., 0., 0., 1., 0.,\n",
       "       0., 0., 0., 0., 1., 1., 0., 0., 0., 0., 0., 1., 0., 0., 0., 0., 0.,\n",
       "       0., 1., 1., 0., 0., 1., 0., 0., 1., 1., 0., 0., 1., 0., 0., 1., 0.,\n",
       "       1., 1., 1., 1., 1., 0., 1., 1., 1., 1., 0., 1., 0., 1., 0., 1., 1.,\n",
       "       0., 0., 1., 1., 1., 0., 1., 0., 1., 0., 0., 0., 0., 1., 0., 0., 1.,\n",
       "       1., 1., 1., 0., 1., 0., 1., 1.])"
      ]
     },
     "execution_count": 44,
     "metadata": {},
     "output_type": "execute_result"
    }
   ],
   "source": [
    "# Hacer predicciones\n",
    "\n",
    "y_pred = optimized_model.predict(X_test)\n",
    "y_pred"
   ]
  },
  {
   "cell_type": "code",
   "execution_count": 45,
   "id": "99de24a3",
   "metadata": {},
   "outputs": [
    {
     "data": {
      "text/plain": [
       "0.8089887640449438"
      ]
     },
     "execution_count": 45,
     "metadata": {},
     "output_type": "execute_result"
    }
   ],
   "source": [
    "# Comprobar la puntuación de precisión\n",
    "\n",
    "from sklearn.metrics import accuracy_score, confusion_matrix\n",
    "\n",
    "accuracy_score(y_pred, y_test)"
   ]
  },
  {
   "cell_type": "code",
   "execution_count": 46,
   "id": "9391d4f8",
   "metadata": {},
   "outputs": [
    {
     "data": {
      "text/plain": [
       "array([[85, 15],\n",
       "       [19, 59]])"
      ]
     },
     "execution_count": 46,
     "metadata": {},
     "output_type": "execute_result"
    }
   ],
   "source": [
    "# Matriz de confusión\n",
    "\n",
    "confusion_matrix(y_pred, y_test)"
   ]
  },
  {
   "cell_type": "markdown",
   "id": "9d2ccf0d",
   "metadata": {},
   "source": [
    "Observaciones: En efecto, ahora tenemos 34 (15 + 19) predicciones incorrectas. Teníamos 33 con nuestro primer modelo de referencia.\n",
    "\n",
    "En el último módulo de preprocesamiento de datos, aprendimos algunas técnicas de selección de características si es necesario. Sin embargo, el conjunto de datos limpio final se guardó antes de cualquier implementación de selección de características. Entonces, usemos una técnica de selección de características aquí y veamos si hace que nuestro modelo mejore.\n",
    "\n",
    "**Eliminación de características recursivas**\n",
    "\n",
    "Dado un estimador externo que asigna pesos a las características, la eliminación recursiva de características (RFE) consiste en seleccionar características considerando recursivamente conjuntos de características cada vez más pequeños. Primero, el estimador se entrena en el conjunto inicial de características y la importancia de cada característica se obtiene a través de un atributo coef_ o mediante un atributo feature_importances_. Luego, las características menos importantes se eliminan del conjunto actual de funciones. Ese procedimiento se repite recursivamente en el conjunto eliminado hasta que finalmente se alcanza el número deseado de funciones para seleccionar."
   ]
  },
  {
   "cell_type": "code",
   "execution_count": 47,
   "id": "a8297226",
   "metadata": {},
   "outputs": [
    {
     "name": "stdout",
     "output_type": "stream",
     "text": [
      "Selected features: ['Embarked_C', 'Embarked_Q', 'Embarked_S', 'Female', 'Male', 'Pclass', 'Age', 'SibSp', 'fam_mbrs']\n"
     ]
    }
   ],
   "source": [
    "from sklearn.feature_selection import RFE\n",
    "\n",
    "# Crear el modelo RFE y selecciona 9 atributos\n",
    "rfe = RFE(model, n_features_to_select=9)\n",
    "rfe = rfe.fit(X, y)\n",
    "\n",
    "# Resumir la selección de los atributos.\n",
    "print('Selected features: %s' % list(X.columns[rfe.support_]))"
   ]
  },
  {
   "cell_type": "markdown",
   "id": "fc4ca008",
   "metadata": {},
   "source": [
    "Estos son los 9 atributos sugeridos. Pero, ¿9 es el número óptimo de características del Titanic para ingresar a mi modelo?"
   ]
  },
  {
   "cell_type": "markdown",
   "id": "80b3b955",
   "metadata": {},
   "source": [
    "**Clasificación de características con eliminación recursiva de características y validación cruzada**\n",
    "\n",
    "RFECV realiza RFE en un ciclo de validación cruzada para encontrar el número óptimo o el mejor número de características. A continuación, se aplica una eliminación recursiva de características en regresión logística con ajuste automático del número de características seleccionadas con validación cruzada."
   ]
  },
  {
   "cell_type": "code",
   "execution_count": 48,
   "id": "275b28de",
   "metadata": {},
   "outputs": [
    {
     "name": "stdout",
     "output_type": "stream",
     "text": [
      "Optimal number of features: 8\n",
      "Selected features: ['Embarked_C', 'Embarked_Q', 'Embarked_S', 'Female', 'Male', 'Pclass', 'Age', 'SibSp']\n"
     ]
    },
    {
     "name": "stderr",
     "output_type": "stream",
     "text": [
      "/home/gitpod/.pyenv/versions/3.8.13/lib/python3.8/site-packages/sklearn/utils/deprecation.py:103: FutureWarning: The `grid_scores_` attribute is deprecated in version 1.0 in favor of `cv_results_` and will be removed in version 1.2.\n",
      "  warnings.warn(msg, category=FutureWarning)\n"
     ]
    },
    {
     "data": {
      "image/png": "[encoded data removed]",
      "text/plain": [
       "<Figure size 720x432 with 1 Axes>"
      ]
     },
     "metadata": {
      "needs_background": "light"
     },
     "output_type": "display_data"
    }
   ],
   "source": [
    "from sklearn.feature_selection import RFECV\n",
    "\n",
    "# Crear el objeto RFE y calcular una puntuación de validación cruzada.\n",
    "# La puntuación de \"precisión\" es proporcional al número de clasificaciones correctas\n",
    "\n",
    "rfecv = RFECV(estimator=LogisticRegression(), step=1, cv=10, scoring='accuracy')\n",
    "rfecv.fit(X, y)\n",
    "\n",
    "print(\"Optimal number of features: %d\" % rfecv.n_features_)\n",
    "print('Selected features: %s' % list(X.columns[rfecv.support_]))\n",
    "\n",
    "# Trazar el número de características VS. puntajes de validación cruzada\n",
    "\n",
    "plt.figure(figsize=(10,6))\n",
    "plt.xlabel(\"Number of features selected\")\n",
    "plt.ylabel(\"Cross validation score (nb of correct classifications)\")\n",
    "plt.plot(range(1, len(rfecv.grid_scores_) + 1), rfecv.grid_scores_)\n",
    "plt.show()"
   ]
  },
  {
   "cell_type": "markdown",
   "id": "23d14322",
   "metadata": {},
   "source": [
    "Observaciones: Vemos que el número óptimo de características sugeridas es en realidad 8. El número total de miembros de la familia no se consideró importante."
   ]
  },
  {
   "cell_type": "markdown",
   "id": "7057a053",
   "metadata": {},
   "source": [
    "**Evaluación del modelo basada en la validación cruzada de K-fold usando la función cross_val_score()**\n",
    "\n",
    "- Esta vez vamos a utilizar un marco de datos de nuevas características (new_X) con solo las características seleccionadas.\n",
    "\n",
    "- Esta vez, el método de división será la validación cruzada de K-fold con 10 pliegues.\n",
    "\n",
    "- El modelo seguirá siendo una regresión logística, pero usaremos los mejores hiperparámetros que obtuvimos en la búsqueda en cuadrícula.\n",
    "\n",
    "- Sabemos que la precisión no siempre es la mejor o siempre la mala medida para evaluar. Hay muchas métricas como Recall, Precision, F1 Score y mucho más. Propondremos 3 métricas de evaluación diferentes. Las métricas propuestas serán 'precisión', 'neg_log_loss' y 'roc_auc'.\n",
    "\n",
    "- Finalmente, se utilizará la función cross_val_score() para realizar la evaluación, tomando el conjunto de datos y la configuración de validación cruzada y devolviendo una lista de puntajes calculados para cada pliegue.\n"
   ]
  },
  {
   "cell_type": "code",
   "execution_count": 49,
   "id": "0bf8b662",
   "metadata": {},
   "outputs": [
    {
     "name": "stdout",
     "output_type": "stream",
     "text": [
      "K-fold cross-validation results:\n",
      "LogisticRegression average accuracy is 0.798\n",
      "LogisticRegression average log_loss is 0.459\n",
      "LogisticRegression average auc is 0.847\n"
     ]
    }
   ],
   "source": [
    "from sklearn.model_selection import train_test_split, cross_val_score\n",
    "from sklearn.metrics import accuracy_score, classification_report, precision_score, recall_score \n",
    "from sklearn.metrics import confusion_matrix, precision_recall_curve, roc_curve, auc, log_loss\n",
    "\n",
    "Selected_features = ['Embarked_C', 'Embarked_Q', 'Embarked_S', 'Female', 'Male', 'Pclass', 'Age', 'SibSp']\n",
    "\n",
    "# Crear nueva X (funciones seleccionadas)\n",
    "new_X = final_df[Selected_features]\n",
    "\n",
    "# Regresión logística de validación cruzada de 10 veces, utilizando los mejores hiperparámetros que nos proporcionó la búsqueda en cuadrícula.\n",
    "\n",
    "logreg = LogisticRegression(C= 0.1, penalty='l2', solver= 'newton-cg')\n",
    "\n",
    "# Usar la función cross_val_score\n",
    "# Estamos pasando la totalidad de X e y, ya no X_train o y_train\n",
    "# cv=10 para 10 pliegues\n",
    "# Puntuación = {'precisión', 'neg_log_loss', 'roc_auc'} para la métrica de evaluación\n",
    "\n",
    "scores_accuracy = cross_val_score(logreg, new_X, y, cv=10, scoring='accuracy')\n",
    "scores_log_loss = cross_val_score(logreg, new_X, y, cv=10, scoring='neg_log_loss')\n",
    "scores_auc = cross_val_score(logreg, new_X, y, cv=10, scoring='roc_auc')\n",
    "\n",
    "print('K-fold cross-validation results:')\n",
    "print(logreg.__class__.__name__+\" average accuracy is %2.3f\" % scores_accuracy.mean())\n",
    "print(logreg.__class__.__name__+\" average log_loss is %2.3f\" % -scores_log_loss.mean())\n",
    "print(logreg.__class__.__name__+\" average auc is %2.3f\" % scores_auc.mean())"
   ]
  },
  {
   "cell_type": "markdown",
   "id": "537ce0df",
   "metadata": {},
   "source": [
    "Ten en cuenta que al usar la métrica 'roc_auc' habríamos obtenido una mejor puntuación que la precisión. Si quisiéramos repetir nuestro proceso de modelado usando esta métrica de evaluación, considera usar predict_proba(X_test) para predecir las probabilidades y también grafica las curvas auc_roc, porque si usas model.predict(X_test), el método no tendrá todo lo necesario información para construir todos los puntos de la curva.\n",
    "\n",
    "¡Terminemos nuestras predicciones de clase!\n",
    "\n",
    "Necesitamos ajustar todos los datos de entrenamiento al estimador una vez que estemos satisfechos con los resultados de cross_val_score, antes de que podamos usarlos para predecir los datos de prueba del Titanic."
   ]
  },
  {
   "cell_type": "code",
   "execution_count": 51,
   "id": "3a6a6180",
   "metadata": {},
   "outputs": [
    {
     "data": {
      "text/html": [
       "<style>#sk-container-id-5 {color: black;background-color: white;}#sk-container-id-5 pre{padding: 0;}#sk-container-id-5 div.sk-toggleable {background-color: white;}#sk-container-id-5 label.sk-toggleable__label {cursor: pointer;display: block;width: 100%;margin-bottom: 0;padding: 0.3em;box-sizing: border-box;text-align: center;}#sk-container-id-5 label.sk-toggleable__label-arrow:before {content: \"▸\";float: left;margin-right: 0.25em;color: #696969;}#sk-container-id-5 label.sk-toggleable__label-arrow:hover:before {color: black;}#sk-container-id-5 div.sk-estimator:hover label.sk-toggleable__label-arrow:before {color: black;}#sk-container-id-5 div.sk-toggleable__content {max-height: 0;max-width: 0;overflow: hidden;text-align: left;background-color: #f0f8ff;}#sk-container-id-5 div.sk-toggleable__content pre {margin: 0.2em;color: black;border-radius: 0.25em;background-color: #f0f8ff;}#sk-container-id-5 input.sk-toggleable__control:checked~div.sk-toggleable__content {max-height: 200px;max-width: 100%;overflow: auto;}#sk-container-id-5 input.sk-toggleable__control:checked~label.sk-toggleable__label-arrow:before {content: \"▾\";}#sk-container-id-5 div.sk-estimator input.sk-toggleable__control:checked~label.sk-toggleable__label {background-color: #d4ebff;}#sk-container-id-5 div.sk-label input.sk-toggleable__control:checked~label.sk-toggleable__label {background-color: #d4ebff;}#sk-container-id-5 input.sk-hidden--visually {border: 0;clip: rect(1px 1px 1px 1px);clip: rect(1px, 1px, 1px, 1px);height: 1px;margin: -1px;overflow: hidden;padding: 0;position: absolute;width: 1px;}#sk-container-id-5 div.sk-estimator {font-family: monospace;background-color: #f0f8ff;border: 1px dotted black;border-radius: 0.25em;box-sizing: border-box;margin-bottom: 0.5em;}#sk-container-id-5 div.sk-estimator:hover {background-color: #d4ebff;}#sk-container-id-5 div.sk-parallel-item::after {content: \"\";width: 100%;border-bottom: 1px solid gray;flex-grow: 1;}#sk-container-id-5 div.sk-label:hover label.sk-toggleable__label {background-color: #d4ebff;}#sk-container-id-5 div.sk-serial::before {content: \"\";position: absolute;border-left: 1px solid gray;box-sizing: border-box;top: 0;bottom: 0;left: 50%;z-index: 0;}#sk-container-id-5 div.sk-serial {display: flex;flex-direction: column;align-items: center;background-color: white;padding-right: 0.2em;padding-left: 0.2em;position: relative;}#sk-container-id-5 div.sk-item {position: relative;z-index: 1;}#sk-container-id-5 div.sk-parallel {display: flex;align-items: stretch;justify-content: center;background-color: white;position: relative;}#sk-container-id-5 div.sk-item::before, #sk-container-id-5 div.sk-parallel-item::before {content: \"\";position: absolute;border-left: 1px solid gray;box-sizing: border-box;top: 0;bottom: 0;left: 50%;z-index: -1;}#sk-container-id-5 div.sk-parallel-item {display: flex;flex-direction: column;z-index: 1;position: relative;background-color: white;}#sk-container-id-5 div.sk-parallel-item:first-child::after {align-self: flex-end;width: 50%;}#sk-container-id-5 div.sk-parallel-item:last-child::after {align-self: flex-start;width: 50%;}#sk-container-id-5 div.sk-parallel-item:only-child::after {width: 0;}#sk-container-id-5 div.sk-dashed-wrapped {border: 1px dashed gray;margin: 0 0.4em 0.5em 0.4em;box-sizing: border-box;padding-bottom: 0.4em;background-color: white;}#sk-container-id-5 div.sk-label label {font-family: monospace;font-weight: bold;display: inline-block;line-height: 1.2em;}#sk-container-id-5 div.sk-label-container {text-align: center;}#sk-container-id-5 div.sk-container {/* jupyter's `normalize.less` sets `[hidden] { display: none; }` but bootstrap.min.css set `[hidden] { display: none !important; }` so we also need the `!important` here to be able to override the default hidden behavior on the sphinx rendered scikit-learn.org. See: https://github.com/scikit-learn/scikit-learn/issues/21755 */display: inline-block !important;position: relative;}#sk-container-id-5 div.sk-text-repr-fallback {display: none;}</style><div id=\"sk-container-id-5\" class=\"sk-top-container\"><div class=\"sk-text-repr-fallback\"><pre>LogisticRegression(C=0.1, solver=&#x27;newton-cg&#x27;)</pre><b>In a Jupyter environment, please rerun this cell to show the HTML representation or trust the notebook. <br />On GitHub, the HTML representation is unable to render, please try loading this page with nbviewer.org.</b></div><div class=\"sk-container\" hidden><div class=\"sk-item\"><div class=\"sk-estimator sk-toggleable\"><input class=\"sk-toggleable__control sk-hidden--visually\" id=\"sk-estimator-id-5\" type=\"checkbox\" checked><label for=\"sk-estimator-id-5\" class=\"sk-toggleable__label sk-toggleable__label-arrow\">LogisticRegression</label><div class=\"sk-toggleable__content\"><pre>LogisticRegression(C=0.1, solver=&#x27;newton-cg&#x27;)</pre></div></div></div></div></div>"
      ],
      "text/plain": [
       "LogisticRegression(C=0.1, solver='newton-cg')"
      ]
     },
     "execution_count": 51,
     "metadata": {},
     "output_type": "execute_result"
    }
   ],
   "source": [
    "# Ajustemos todos los datos de nuestro Titanic train con este modelo.\n",
    "\n",
    "logreg.fit(new_X,y)"
   ]
  },
  {
   "cell_type": "markdown",
   "id": "1b0e4976",
   "metadata": {},
   "source": [
    "En el siguiente código, veamos cómo generar nuestras predicciones y guardarlas en un archivo de predicciones con el Id correcto."
   ]
  },
  {
   "cell_type": "code",
   "execution_count": 52,
   "id": "466442e7",
   "metadata": {},
   "outputs": [],
   "source": [
    "# Cargar el conjunto de prueba inicial (el que aún no se limpió y donde necesitamos hacer predicciones)\n",
    "\n",
    "initial_test_df = pd.read_csv('https://raw.githubusercontent.com/4GeeksAcademy/machine-learning-content/master/assets/titanic_test.csv')\n",
    "\n",
    "# Cargar equipo de prueba limpio\n",
    "\n",
    "final_test = pd.read_csv('https://raw.githubusercontent.com/4GeeksAcademy/machine-learning-content/master/assets/clean_titanic_test.csv')\n",
    "\n",
    "# Agregar la columna sobrevivida al conjunto de prueba limpio para hacer predicciones\n",
    "\n",
    "final_test['Survived'] = logreg.predict(final_test[Selected_features])\n",
    "\n",
    "# Poner la columna 'PassengerId' de nuevo en el conjunto de prueba\n",
    "\n",
    "final_test['PassengerId'] = initial_test_df['PassengerId']\n",
    "\n",
    "# Creaando un marco de datos de predicciones final\n",
    "\n",
    "submission = final_test[['PassengerId','Survived']]\n",
    "\n",
    "# Convertir el marco de datos final en un archivo csv\n",
    "# Normalmente, este es el archivo csv requerido en las competiciones de Kaggle\n",
    "\n",
    "submission.to_csv(\"submission.csv\", index=False)"
   ]
  },
  {
   "cell_type": "markdown",
   "id": "faba28d6",
   "metadata": {},
   "source": [
    "Eche un vistazo a nuestras predicciones en las últimas filas del conjunto de prueba"
   ]
  },
  {
   "cell_type": "code",
   "execution_count": 53,
   "id": "5141790e",
   "metadata": {},
   "outputs": [
    {
     "data": {
      "text/html": [
       "<div>\n",
       "<style scoped>\n",
       "    .dataframe tbody tr th:only-of-type {\n",
       "        vertical-align: middle;\n",
       "    }\n",
       "\n",
       "    .dataframe tbody tr th {\n",
       "        vertical-align: top;\n",
       "    }\n",
       "\n",
       "    .dataframe thead th {\n",
       "        text-align: right;\n",
       "    }\n",
       "</style>\n",
       "<table border=\"1\" class=\"dataframe\">\n",
       "  <thead>\n",
       "    <tr style=\"text-align: right;\">\n",
       "      <th></th>\n",
       "      <th>PassengerId</th>\n",
       "      <th>Survived</th>\n",
       "    </tr>\n",
       "  </thead>\n",
       "  <tbody>\n",
       "    <tr>\n",
       "      <th>413</th>\n",
       "      <td>1305</td>\n",
       "      <td>0.0</td>\n",
       "    </tr>\n",
       "    <tr>\n",
       "      <th>414</th>\n",
       "      <td>1306</td>\n",
       "      <td>1.0</td>\n",
       "    </tr>\n",
       "    <tr>\n",
       "      <th>415</th>\n",
       "      <td>1307</td>\n",
       "      <td>0.0</td>\n",
       "    </tr>\n",
       "    <tr>\n",
       "      <th>416</th>\n",
       "      <td>1308</td>\n",
       "      <td>0.0</td>\n",
       "    </tr>\n",
       "    <tr>\n",
       "      <th>417</th>\n",
       "      <td>1309</td>\n",
       "      <td>0.0</td>\n",
       "    </tr>\n",
       "  </tbody>\n",
       "</table>\n",
       "</div>"
      ],
      "text/plain": [
       "     PassengerId  Survived\n",
       "413         1305       0.0\n",
       "414         1306       1.0\n",
       "415         1307       0.0\n",
       "416         1308       0.0\n",
       "417         1309       0.0"
      ]
     },
     "execution_count": 53,
     "metadata": {},
     "output_type": "execute_result"
    }
   ],
   "source": [
    "submission.tail()"
   ]
  },
  {
   "cell_type": "markdown",
   "id": "e41526e1",
   "metadata": {},
   "source": [
    "## Consideraciones de importación antes de modelar con regresión logística\n",
    "\n",
    "En última instancia, en los proyectos de aprendizaje automático de modelado predictivo, nos centramos en hacer predicciones precisas en lugar de interpretar los resultados. Como tal, podemos romper algunas suposiciones siempre que el modelo sea robusto y funcione bien.\n",
    "\n",
    "- Variable de salida binaria: esto puede ser obvio como ya lo mencionamos, pero la regresión logística está pensada para problemas de clasificación binaria (dos clases). Predecirá la probabilidad de que una instancia pertenezca a la clase predeterminada, que se puede ajustar a una clasificación de 0 o 1.\n",
    "\n",
    "- Eliminar ruido: la regresión logística no asume ningún error en la variable de salida (y), considere eliminar los valores atípicos y posiblemente las instancias mal clasificadas de sus datos de entrenamiento. \n",
    "\n",
    "- Distribución gaussiana: la regresión logística es un algoritmo lineal (con una transformación no lineal en la salida). Asume una relación lineal entre las variables de entrada con la salida. Las transformaciones de datos de sus variables de entrada que exponen mejor esta relación lineal pueden dar como resultado un modelo más preciso. Por ejemplo, puedes usar log, root, Box-Cox y otras transformaciones univariadas para exponer mejor esta relación.\n",
    "\n",
    "- Eliminar entradas correlacionadas: al igual que la regresión lineal, el modelo puede sobreajustarse si tiene varias entradas altamente correlacionadas. Considera calcular las correlaciones por pares entre todas las entradas y eliminar las entradas altamente correlacionadas.\n",
    "\n",
    "- Error al converger: es posible que el proceso de estimación de probabilidad esperada que aprende los coeficientes no converja. Esto puede suceder si hay muchas entradas altamente correlacionadas en sus datos o si los datos son muy escasos (por ejemplo, muchos ceros en sus datos de entrada)."
   ]
  },
  {
   "cell_type": "markdown",
   "id": "9de9a255",
   "metadata": {},
   "source": [
    "Considerando esto, ¿hay algún cambio que harías en tu fase de preprocesamiento de datos?"
   ]
  },
  {
   "cell_type": "markdown",
   "id": "1e5e27c6",
   "metadata": {},
   "source": [
    "Fuente:\n",
    "\n",
    "https://towardsdatascience.com/a-handbook-for-logistic-regression-bb2d0dc6d8a8\n",
    "\n",
    "https://www.displayr.com/how-to-interpret-logistic-regression-coefficients/\n",
    "\n",
    "https://towardsdatascience.com/a-handbook-for-logistic-regression-bb2d0dc6d8a8\n",
    "\n",
    "https://machinelearningmastery.com/hyperparameters-for-classification-machine-learning-algorithms/#:~:text=Logistic%20regression%20does%20not%20really,with%20different%20solvers%20(solver).&text=Regularization%20(penalty)%20can%20sometimes%20be%20helpful.\n",
    "\n",
    "https://machinelearningmastery.com/logistic-regression-for-machine-learning/\n",
    "\n",
    "https://www.kaggle.com/code/mnassrib/titanic-logistic-regression-with-python/notebook\n",
    "\n",
    "https://www.kaggle.com/code/rmiperrier/tps-mar-lgbm-predict-proba-vs-predict?scriptVersionId=55643096\n",
    "\n",
    "https://medium.com/codex/do-i-need-to-tune-logistic-regression-hyperparameters-1cb2b81fca69\n"
   ]
  }
 ],
 "metadata": {
  "kernelspec": {
   "display_name": "Python 3.8.13 64-bit ('3.8.13')",
   "language": "python",
   "name": "python3"
  },
  "language_info": {
   "codemirror_mode": {
    "name": "ipython",
    "version": 3
   },
   "file_extension": ".py",
   "mimetype": "text/x-python",
   "name": "python",
   "nbconvert_exporter": "python",
   "pygments_lexer": "ipython3",
   "version": "3.8.13"
  },
  "vscode": {
   "interpreter": {
    "hash": "110cc1dee26208153f2972f08a2ad52b6a56238dc66d48e87fb757ef2996db56"
   }
  }
 },
 "nbformat": 4,
 "nbformat_minor": 5
}
